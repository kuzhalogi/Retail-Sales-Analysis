{
 "cells": [
  {
   "cell_type": "markdown",
   "metadata": {},
   "source": [
    "### Imports"
   ]
  },
  {
   "cell_type": "code",
   "execution_count": 1,
   "metadata": {},
   "outputs": [],
   "source": [
    "import pandas as pd\n",
    "import numpy as np\n"
   ]
  },
  {
   "cell_type": "code",
   "execution_count": 2,
   "metadata": {},
   "outputs": [],
   "source": [
    "retail_sales_data=pd.read_csv('retail_store_sales.csv')"
   ]
  },
  {
   "cell_type": "markdown",
   "metadata": {},
   "source": [
    "## Exploration"
   ]
  },
  {
   "cell_type": "markdown",
   "metadata": {},
   "source": [
    "#### Columns from the retail sales data"
   ]
  },
  {
   "cell_type": "code",
   "execution_count": 3,
   "metadata": {},
   "outputs": [
    {
     "name": "stdout",
     "output_type": "stream",
     "text": [
      "Index(['Transaction ID', 'Customer ID', 'Category', 'Item', 'Price Per Unit',\n",
      "       'Quantity', 'Total Spent', 'Payment Method', 'Location',\n",
      "       'Transaction Date', 'Discount Applied'],\n",
      "      dtype='object')\n"
     ]
    }
   ],
   "source": [
    "column_names = retail_sales_data.columns\n",
    "print(column_names)"
   ]
  },
  {
   "cell_type": "code",
   "execution_count": 4,
   "metadata": {},
   "outputs": [
    {
     "data": {
      "application/vnd.microsoft.datawrangler.viewer.v0+json": {
       "columns": [
        {
         "name": "index",
         "rawType": "int64",
         "type": "integer"
        },
        {
         "name": "Transaction ID",
         "rawType": "object",
         "type": "string"
        },
        {
         "name": "Customer ID",
         "rawType": "object",
         "type": "string"
        },
        {
         "name": "Category",
         "rawType": "object",
         "type": "string"
        },
        {
         "name": "Item",
         "rawType": "object",
         "type": "unknown"
        },
        {
         "name": "Price Per Unit",
         "rawType": "float64",
         "type": "float"
        },
        {
         "name": "Quantity",
         "rawType": "float64",
         "type": "float"
        },
        {
         "name": "Total Spent",
         "rawType": "float64",
         "type": "float"
        },
        {
         "name": "Payment Method",
         "rawType": "object",
         "type": "string"
        },
        {
         "name": "Location",
         "rawType": "object",
         "type": "string"
        },
        {
         "name": "Transaction Date",
         "rawType": "object",
         "type": "string"
        },
        {
         "name": "Discount Applied",
         "rawType": "object",
         "type": "unknown"
        }
       ],
       "conversionMethod": "pd.DataFrame",
       "ref": "1061d7b9-69f9-40ab-b585-44a07a0a37fa",
       "rows": [
        [
         "1338",
         "TXN_1966346",
         "CUST_23",
         "Patisserie",
         "Item_11_PAT",
         "20.0",
         "10.0",
         "200.0",
         "Cash",
         "In-store",
         "2022-11-29",
         null
        ],
        [
         "9434",
         "TXN_4949721",
         "CUST_08",
         "Computers and electric accessories",
         null,
         "23.0",
         null,
         null,
         "Credit Card",
         "In-store",
         "2022-04-28",
         "True"
        ],
        [
         "6755",
         "TXN_5819222",
         "CUST_14",
         "Milk Products",
         "Item_20_MILK",
         "33.5",
         "1.0",
         "33.5",
         "Credit Card",
         "In-store",
         "2022-06-10",
         "True"
        ],
        [
         "10337",
         "TXN_9659189",
         "CUST_13",
         "Computers and electric accessories",
         null,
         "33.5",
         null,
         null,
         "Credit Card",
         "Online",
         "2024-06-20",
         null
        ],
        [
         "3260",
         "TXN_9430988",
         "CUST_13",
         "Milk Products",
         null,
         "36.5",
         null,
         null,
         "Cash",
         "In-store",
         "2024-05-31",
         "True"
        ],
        [
         "1970",
         "TXN_4621950",
         "CUST_04",
         "Computers and electric accessories",
         "Item_12_CEA",
         "21.5",
         "8.0",
         "172.0",
         "Digital Wallet",
         "Online",
         "2025-01-08",
         "False"
        ],
        [
         "6397",
         "TXN_8050790",
         "CUST_05",
         "Computers and electric accessories",
         "Item_11_CEA",
         "20.0",
         "6.0",
         "120.0",
         "Cash",
         "In-store",
         "2024-06-05",
         null
        ],
        [
         "1185",
         "TXN_6781800",
         "CUST_24",
         "Furniture",
         "Item_19_FUR",
         "32.0",
         "8.0",
         "256.0",
         "Cash",
         "Online",
         "2024-09-26",
         "True"
        ],
        [
         "2723",
         "TXN_1153995",
         "CUST_03",
         "Electric household essentials",
         null,
         "23.0",
         null,
         null,
         "Credit Card",
         "In-store",
         "2022-02-12",
         "False"
        ],
        [
         "2336",
         "TXN_4123109",
         "CUST_24",
         "Beverages",
         null,
         null,
         "2.0",
         "19.0",
         "Digital Wallet",
         "In-store",
         "2025-01-12",
         "True"
        ],
        [
         "2693",
         "TXN_4240172",
         "CUST_19",
         "Butchers",
         "Item_20_BUT",
         "33.5",
         "4.0",
         "134.0",
         "Credit Card",
         "Online",
         "2022-07-26",
         "True"
        ],
        [
         "535",
         "TXN_2263002",
         "CUST_09",
         "Patisserie",
         "Item_16_PAT",
         "27.5",
         "9.0",
         "247.5",
         "Digital Wallet",
         "Online",
         "2022-06-10",
         "False"
        ],
        [
         "3389",
         "TXN_8737583",
         "CUST_01",
         "Milk Products",
         "Item_13_MILK",
         "23.0",
         "7.0",
         "161.0",
         "Credit Card",
         "In-store",
         "2023-02-21",
         null
        ],
        [
         "6081",
         "TXN_5606325",
         "CUST_23",
         "Beverages",
         "Item_8_BEV",
         "15.5",
         "1.0",
         "15.5",
         "Digital Wallet",
         "Online",
         "2024-08-09",
         null
        ],
        [
         "1422",
         "TXN_8071580",
         "CUST_20",
         "Milk Products",
         "Item_22_MILK",
         "36.5",
         "1.0",
         "36.5",
         "Digital Wallet",
         "In-store",
         "2022-09-03",
         "False"
        ],
        [
         "4078",
         "TXN_7017414",
         "CUST_20",
         "Beverages",
         "Item_21_BEV",
         "35.0",
         "3.0",
         "105.0",
         "Cash",
         "In-store",
         "2022-08-03",
         "False"
        ],
        [
         "2324",
         "TXN_5679757",
         "CUST_19",
         "Butchers",
         "Item_22_BUT",
         "36.5",
         "8.0",
         "292.0",
         "Digital Wallet",
         "Online",
         "2022-01-15",
         "True"
        ],
        [
         "3948",
         "TXN_3962622",
         "CUST_20",
         "Milk Products",
         "Item_11_MILK",
         "20.0",
         "5.0",
         "100.0",
         "Credit Card",
         "In-store",
         "2022-04-20",
         null
        ],
        [
         "9067",
         "TXN_1175373",
         "CUST_13",
         "Milk Products",
         "Item_24_MILK",
         "39.5",
         "3.0",
         "118.5",
         "Credit Card",
         "In-store",
         "2024-04-09",
         "True"
        ],
        [
         "71",
         "TXN_7363165",
         "CUST_25",
         "Beverages",
         "Item_4_BEV",
         "9.5",
         "7.0",
         "66.5",
         "Digital Wallet",
         "In-store",
         "2023-03-25",
         null
        ]
       ],
       "shape": {
        "columns": 11,
        "rows": 20
       }
      },
      "text/html": [
       "<div>\n",
       "<style scoped>\n",
       "    .dataframe tbody tr th:only-of-type {\n",
       "        vertical-align: middle;\n",
       "    }\n",
       "\n",
       "    .dataframe tbody tr th {\n",
       "        vertical-align: top;\n",
       "    }\n",
       "\n",
       "    .dataframe thead th {\n",
       "        text-align: right;\n",
       "    }\n",
       "</style>\n",
       "<table border=\"1\" class=\"dataframe\">\n",
       "  <thead>\n",
       "    <tr style=\"text-align: right;\">\n",
       "      <th></th>\n",
       "      <th>Transaction ID</th>\n",
       "      <th>Customer ID</th>\n",
       "      <th>Category</th>\n",
       "      <th>Item</th>\n",
       "      <th>Price Per Unit</th>\n",
       "      <th>Quantity</th>\n",
       "      <th>Total Spent</th>\n",
       "      <th>Payment Method</th>\n",
       "      <th>Location</th>\n",
       "      <th>Transaction Date</th>\n",
       "      <th>Discount Applied</th>\n",
       "    </tr>\n",
       "  </thead>\n",
       "  <tbody>\n",
       "    <tr>\n",
       "      <th>1338</th>\n",
       "      <td>TXN_1966346</td>\n",
       "      <td>CUST_23</td>\n",
       "      <td>Patisserie</td>\n",
       "      <td>Item_11_PAT</td>\n",
       "      <td>20.0</td>\n",
       "      <td>10.0</td>\n",
       "      <td>200.0</td>\n",
       "      <td>Cash</td>\n",
       "      <td>In-store</td>\n",
       "      <td>2022-11-29</td>\n",
       "      <td>NaN</td>\n",
       "    </tr>\n",
       "    <tr>\n",
       "      <th>9434</th>\n",
       "      <td>TXN_4949721</td>\n",
       "      <td>CUST_08</td>\n",
       "      <td>Computers and electric accessories</td>\n",
       "      <td>NaN</td>\n",
       "      <td>23.0</td>\n",
       "      <td>NaN</td>\n",
       "      <td>NaN</td>\n",
       "      <td>Credit Card</td>\n",
       "      <td>In-store</td>\n",
       "      <td>2022-04-28</td>\n",
       "      <td>True</td>\n",
       "    </tr>\n",
       "    <tr>\n",
       "      <th>6755</th>\n",
       "      <td>TXN_5819222</td>\n",
       "      <td>CUST_14</td>\n",
       "      <td>Milk Products</td>\n",
       "      <td>Item_20_MILK</td>\n",
       "      <td>33.5</td>\n",
       "      <td>1.0</td>\n",
       "      <td>33.5</td>\n",
       "      <td>Credit Card</td>\n",
       "      <td>In-store</td>\n",
       "      <td>2022-06-10</td>\n",
       "      <td>True</td>\n",
       "    </tr>\n",
       "    <tr>\n",
       "      <th>10337</th>\n",
       "      <td>TXN_9659189</td>\n",
       "      <td>CUST_13</td>\n",
       "      <td>Computers and electric accessories</td>\n",
       "      <td>NaN</td>\n",
       "      <td>33.5</td>\n",
       "      <td>NaN</td>\n",
       "      <td>NaN</td>\n",
       "      <td>Credit Card</td>\n",
       "      <td>Online</td>\n",
       "      <td>2024-06-20</td>\n",
       "      <td>NaN</td>\n",
       "    </tr>\n",
       "    <tr>\n",
       "      <th>3260</th>\n",
       "      <td>TXN_9430988</td>\n",
       "      <td>CUST_13</td>\n",
       "      <td>Milk Products</td>\n",
       "      <td>NaN</td>\n",
       "      <td>36.5</td>\n",
       "      <td>NaN</td>\n",
       "      <td>NaN</td>\n",
       "      <td>Cash</td>\n",
       "      <td>In-store</td>\n",
       "      <td>2024-05-31</td>\n",
       "      <td>True</td>\n",
       "    </tr>\n",
       "    <tr>\n",
       "      <th>1970</th>\n",
       "      <td>TXN_4621950</td>\n",
       "      <td>CUST_04</td>\n",
       "      <td>Computers and electric accessories</td>\n",
       "      <td>Item_12_CEA</td>\n",
       "      <td>21.5</td>\n",
       "      <td>8.0</td>\n",
       "      <td>172.0</td>\n",
       "      <td>Digital Wallet</td>\n",
       "      <td>Online</td>\n",
       "      <td>2025-01-08</td>\n",
       "      <td>False</td>\n",
       "    </tr>\n",
       "    <tr>\n",
       "      <th>6397</th>\n",
       "      <td>TXN_8050790</td>\n",
       "      <td>CUST_05</td>\n",
       "      <td>Computers and electric accessories</td>\n",
       "      <td>Item_11_CEA</td>\n",
       "      <td>20.0</td>\n",
       "      <td>6.0</td>\n",
       "      <td>120.0</td>\n",
       "      <td>Cash</td>\n",
       "      <td>In-store</td>\n",
       "      <td>2024-06-05</td>\n",
       "      <td>NaN</td>\n",
       "    </tr>\n",
       "    <tr>\n",
       "      <th>1185</th>\n",
       "      <td>TXN_6781800</td>\n",
       "      <td>CUST_24</td>\n",
       "      <td>Furniture</td>\n",
       "      <td>Item_19_FUR</td>\n",
       "      <td>32.0</td>\n",
       "      <td>8.0</td>\n",
       "      <td>256.0</td>\n",
       "      <td>Cash</td>\n",
       "      <td>Online</td>\n",
       "      <td>2024-09-26</td>\n",
       "      <td>True</td>\n",
       "    </tr>\n",
       "    <tr>\n",
       "      <th>2723</th>\n",
       "      <td>TXN_1153995</td>\n",
       "      <td>CUST_03</td>\n",
       "      <td>Electric household essentials</td>\n",
       "      <td>NaN</td>\n",
       "      <td>23.0</td>\n",
       "      <td>NaN</td>\n",
       "      <td>NaN</td>\n",
       "      <td>Credit Card</td>\n",
       "      <td>In-store</td>\n",
       "      <td>2022-02-12</td>\n",
       "      <td>False</td>\n",
       "    </tr>\n",
       "    <tr>\n",
       "      <th>2336</th>\n",
       "      <td>TXN_4123109</td>\n",
       "      <td>CUST_24</td>\n",
       "      <td>Beverages</td>\n",
       "      <td>NaN</td>\n",
       "      <td>NaN</td>\n",
       "      <td>2.0</td>\n",
       "      <td>19.0</td>\n",
       "      <td>Digital Wallet</td>\n",
       "      <td>In-store</td>\n",
       "      <td>2025-01-12</td>\n",
       "      <td>True</td>\n",
       "    </tr>\n",
       "    <tr>\n",
       "      <th>2693</th>\n",
       "      <td>TXN_4240172</td>\n",
       "      <td>CUST_19</td>\n",
       "      <td>Butchers</td>\n",
       "      <td>Item_20_BUT</td>\n",
       "      <td>33.5</td>\n",
       "      <td>4.0</td>\n",
       "      <td>134.0</td>\n",
       "      <td>Credit Card</td>\n",
       "      <td>Online</td>\n",
       "      <td>2022-07-26</td>\n",
       "      <td>True</td>\n",
       "    </tr>\n",
       "    <tr>\n",
       "      <th>535</th>\n",
       "      <td>TXN_2263002</td>\n",
       "      <td>CUST_09</td>\n",
       "      <td>Patisserie</td>\n",
       "      <td>Item_16_PAT</td>\n",
       "      <td>27.5</td>\n",
       "      <td>9.0</td>\n",
       "      <td>247.5</td>\n",
       "      <td>Digital Wallet</td>\n",
       "      <td>Online</td>\n",
       "      <td>2022-06-10</td>\n",
       "      <td>False</td>\n",
       "    </tr>\n",
       "    <tr>\n",
       "      <th>3389</th>\n",
       "      <td>TXN_8737583</td>\n",
       "      <td>CUST_01</td>\n",
       "      <td>Milk Products</td>\n",
       "      <td>Item_13_MILK</td>\n",
       "      <td>23.0</td>\n",
       "      <td>7.0</td>\n",
       "      <td>161.0</td>\n",
       "      <td>Credit Card</td>\n",
       "      <td>In-store</td>\n",
       "      <td>2023-02-21</td>\n",
       "      <td>NaN</td>\n",
       "    </tr>\n",
       "    <tr>\n",
       "      <th>6081</th>\n",
       "      <td>TXN_5606325</td>\n",
       "      <td>CUST_23</td>\n",
       "      <td>Beverages</td>\n",
       "      <td>Item_8_BEV</td>\n",
       "      <td>15.5</td>\n",
       "      <td>1.0</td>\n",
       "      <td>15.5</td>\n",
       "      <td>Digital Wallet</td>\n",
       "      <td>Online</td>\n",
       "      <td>2024-08-09</td>\n",
       "      <td>NaN</td>\n",
       "    </tr>\n",
       "    <tr>\n",
       "      <th>1422</th>\n",
       "      <td>TXN_8071580</td>\n",
       "      <td>CUST_20</td>\n",
       "      <td>Milk Products</td>\n",
       "      <td>Item_22_MILK</td>\n",
       "      <td>36.5</td>\n",
       "      <td>1.0</td>\n",
       "      <td>36.5</td>\n",
       "      <td>Digital Wallet</td>\n",
       "      <td>In-store</td>\n",
       "      <td>2022-09-03</td>\n",
       "      <td>False</td>\n",
       "    </tr>\n",
       "    <tr>\n",
       "      <th>4078</th>\n",
       "      <td>TXN_7017414</td>\n",
       "      <td>CUST_20</td>\n",
       "      <td>Beverages</td>\n",
       "      <td>Item_21_BEV</td>\n",
       "      <td>35.0</td>\n",
       "      <td>3.0</td>\n",
       "      <td>105.0</td>\n",
       "      <td>Cash</td>\n",
       "      <td>In-store</td>\n",
       "      <td>2022-08-03</td>\n",
       "      <td>False</td>\n",
       "    </tr>\n",
       "    <tr>\n",
       "      <th>2324</th>\n",
       "      <td>TXN_5679757</td>\n",
       "      <td>CUST_19</td>\n",
       "      <td>Butchers</td>\n",
       "      <td>Item_22_BUT</td>\n",
       "      <td>36.5</td>\n",
       "      <td>8.0</td>\n",
       "      <td>292.0</td>\n",
       "      <td>Digital Wallet</td>\n",
       "      <td>Online</td>\n",
       "      <td>2022-01-15</td>\n",
       "      <td>True</td>\n",
       "    </tr>\n",
       "    <tr>\n",
       "      <th>3948</th>\n",
       "      <td>TXN_3962622</td>\n",
       "      <td>CUST_20</td>\n",
       "      <td>Milk Products</td>\n",
       "      <td>Item_11_MILK</td>\n",
       "      <td>20.0</td>\n",
       "      <td>5.0</td>\n",
       "      <td>100.0</td>\n",
       "      <td>Credit Card</td>\n",
       "      <td>In-store</td>\n",
       "      <td>2022-04-20</td>\n",
       "      <td>NaN</td>\n",
       "    </tr>\n",
       "    <tr>\n",
       "      <th>9067</th>\n",
       "      <td>TXN_1175373</td>\n",
       "      <td>CUST_13</td>\n",
       "      <td>Milk Products</td>\n",
       "      <td>Item_24_MILK</td>\n",
       "      <td>39.5</td>\n",
       "      <td>3.0</td>\n",
       "      <td>118.5</td>\n",
       "      <td>Credit Card</td>\n",
       "      <td>In-store</td>\n",
       "      <td>2024-04-09</td>\n",
       "      <td>True</td>\n",
       "    </tr>\n",
       "    <tr>\n",
       "      <th>71</th>\n",
       "      <td>TXN_7363165</td>\n",
       "      <td>CUST_25</td>\n",
       "      <td>Beverages</td>\n",
       "      <td>Item_4_BEV</td>\n",
       "      <td>9.5</td>\n",
       "      <td>7.0</td>\n",
       "      <td>66.5</td>\n",
       "      <td>Digital Wallet</td>\n",
       "      <td>In-store</td>\n",
       "      <td>2023-03-25</td>\n",
       "      <td>NaN</td>\n",
       "    </tr>\n",
       "  </tbody>\n",
       "</table>\n",
       "</div>"
      ],
      "text/plain": [
       "      Transaction ID Customer ID                            Category  \\\n",
       "1338     TXN_1966346     CUST_23                          Patisserie   \n",
       "9434     TXN_4949721     CUST_08  Computers and electric accessories   \n",
       "6755     TXN_5819222     CUST_14                       Milk Products   \n",
       "10337    TXN_9659189     CUST_13  Computers and electric accessories   \n",
       "3260     TXN_9430988     CUST_13                       Milk Products   \n",
       "1970     TXN_4621950     CUST_04  Computers and electric accessories   \n",
       "6397     TXN_8050790     CUST_05  Computers and electric accessories   \n",
       "1185     TXN_6781800     CUST_24                           Furniture   \n",
       "2723     TXN_1153995     CUST_03       Electric household essentials   \n",
       "2336     TXN_4123109     CUST_24                           Beverages   \n",
       "2693     TXN_4240172     CUST_19                            Butchers   \n",
       "535      TXN_2263002     CUST_09                          Patisserie   \n",
       "3389     TXN_8737583     CUST_01                       Milk Products   \n",
       "6081     TXN_5606325     CUST_23                           Beverages   \n",
       "1422     TXN_8071580     CUST_20                       Milk Products   \n",
       "4078     TXN_7017414     CUST_20                           Beverages   \n",
       "2324     TXN_5679757     CUST_19                            Butchers   \n",
       "3948     TXN_3962622     CUST_20                       Milk Products   \n",
       "9067     TXN_1175373     CUST_13                       Milk Products   \n",
       "71       TXN_7363165     CUST_25                           Beverages   \n",
       "\n",
       "               Item  Price Per Unit  Quantity  Total Spent  Payment Method  \\\n",
       "1338    Item_11_PAT            20.0      10.0        200.0            Cash   \n",
       "9434            NaN            23.0       NaN          NaN     Credit Card   \n",
       "6755   Item_20_MILK            33.5       1.0         33.5     Credit Card   \n",
       "10337           NaN            33.5       NaN          NaN     Credit Card   \n",
       "3260            NaN            36.5       NaN          NaN            Cash   \n",
       "1970    Item_12_CEA            21.5       8.0        172.0  Digital Wallet   \n",
       "6397    Item_11_CEA            20.0       6.0        120.0            Cash   \n",
       "1185    Item_19_FUR            32.0       8.0        256.0            Cash   \n",
       "2723            NaN            23.0       NaN          NaN     Credit Card   \n",
       "2336            NaN             NaN       2.0         19.0  Digital Wallet   \n",
       "2693    Item_20_BUT            33.5       4.0        134.0     Credit Card   \n",
       "535     Item_16_PAT            27.5       9.0        247.5  Digital Wallet   \n",
       "3389   Item_13_MILK            23.0       7.0        161.0     Credit Card   \n",
       "6081     Item_8_BEV            15.5       1.0         15.5  Digital Wallet   \n",
       "1422   Item_22_MILK            36.5       1.0         36.5  Digital Wallet   \n",
       "4078    Item_21_BEV            35.0       3.0        105.0            Cash   \n",
       "2324    Item_22_BUT            36.5       8.0        292.0  Digital Wallet   \n",
       "3948   Item_11_MILK            20.0       5.0        100.0     Credit Card   \n",
       "9067   Item_24_MILK            39.5       3.0        118.5     Credit Card   \n",
       "71       Item_4_BEV             9.5       7.0         66.5  Digital Wallet   \n",
       "\n",
       "       Location Transaction Date Discount Applied  \n",
       "1338   In-store       2022-11-29              NaN  \n",
       "9434   In-store       2022-04-28             True  \n",
       "6755   In-store       2022-06-10             True  \n",
       "10337    Online       2024-06-20              NaN  \n",
       "3260   In-store       2024-05-31             True  \n",
       "1970     Online       2025-01-08            False  \n",
       "6397   In-store       2024-06-05              NaN  \n",
       "1185     Online       2024-09-26             True  \n",
       "2723   In-store       2022-02-12            False  \n",
       "2336   In-store       2025-01-12             True  \n",
       "2693     Online       2022-07-26             True  \n",
       "535      Online       2022-06-10            False  \n",
       "3389   In-store       2023-02-21              NaN  \n",
       "6081     Online       2024-08-09              NaN  \n",
       "1422   In-store       2022-09-03            False  \n",
       "4078   In-store       2022-08-03            False  \n",
       "2324     Online       2022-01-15             True  \n",
       "3948   In-store       2022-04-20              NaN  \n",
       "9067   In-store       2024-04-09             True  \n",
       "71     In-store       2023-03-25              NaN  "
      ]
     },
     "execution_count": 4,
     "metadata": {},
     "output_type": "execute_result"
    }
   ],
   "source": [
    "retail_sales_data.sample(n=20)"
   ]
  },
  {
   "cell_type": "code",
   "execution_count": 5,
   "metadata": {},
   "outputs": [
    {
     "name": "stdout",
     "output_type": "stream",
     "text": [
      "       Transaction ID Customer ID                       Category        Item  \\\n",
      "count           12575       12575                          12575       11362   \n",
      "unique          12575          25                              8         200   \n",
      "top       TXN_2407494     CUST_05  Electric household essentials  Item_2_BEV   \n",
      "freq                1         544                           1591         126   \n",
      "mean              NaN         NaN                            NaN         NaN   \n",
      "std               NaN         NaN                            NaN         NaN   \n",
      "min               NaN         NaN                            NaN         NaN   \n",
      "25%               NaN         NaN                            NaN         NaN   \n",
      "50%               NaN         NaN                            NaN         NaN   \n",
      "75%               NaN         NaN                            NaN         NaN   \n",
      "max               NaN         NaN                            NaN         NaN   \n",
      "\n",
      "        Price Per Unit      Quantity   Total Spent Payment Method Location  \\\n",
      "count     11966.000000  11971.000000  11971.000000          12575    12575   \n",
      "unique             NaN           NaN           NaN              3        2   \n",
      "top                NaN           NaN           NaN           Cash   Online   \n",
      "freq               NaN           NaN           NaN           4310     6354   \n",
      "mean         23.365912      5.536380    129.652577            NaN      NaN   \n",
      "std          10.743519      2.857883     94.750697            NaN      NaN   \n",
      "min           5.000000      1.000000      5.000000            NaN      NaN   \n",
      "25%          14.000000      3.000000     51.000000            NaN      NaN   \n",
      "50%          23.000000      6.000000    108.500000            NaN      NaN   \n",
      "75%          33.500000      8.000000    192.000000            NaN      NaN   \n",
      "max          41.000000     10.000000    410.000000            NaN      NaN   \n",
      "\n",
      "       Transaction Date Discount Applied  \n",
      "count             12575             8376  \n",
      "unique             1114                2  \n",
      "top          2022-05-30             True  \n",
      "freq                 26             4219  \n",
      "mean                NaN              NaN  \n",
      "std                 NaN              NaN  \n",
      "min                 NaN              NaN  \n",
      "25%                 NaN              NaN  \n",
      "50%                 NaN              NaN  \n",
      "75%                 NaN              NaN  \n",
      "max                 NaN              NaN  \n"
     ]
    }
   ],
   "source": [
    "print(retail_sales_data.describe(include='all'))"
   ]
  },
  {
   "cell_type": "code",
   "execution_count": 6,
   "metadata": {},
   "outputs": [
    {
     "name": "stdout",
     "output_type": "stream",
     "text": [
      "<class 'pandas.core.frame.DataFrame'>\n",
      "RangeIndex: 12575 entries, 0 to 12574\n",
      "Data columns (total 11 columns):\n",
      " #   Column            Non-Null Count  Dtype  \n",
      "---  ------            --------------  -----  \n",
      " 0   Transaction ID    12575 non-null  object \n",
      " 1   Customer ID       12575 non-null  object \n",
      " 2   Category          12575 non-null  object \n",
      " 3   Item              11362 non-null  object \n",
      " 4   Price Per Unit    11966 non-null  float64\n",
      " 5   Quantity          11971 non-null  float64\n",
      " 6   Total Spent       11971 non-null  float64\n",
      " 7   Payment Method    12575 non-null  object \n",
      " 8   Location          12575 non-null  object \n",
      " 9   Transaction Date  12575 non-null  object \n",
      " 10  Discount Applied  8376 non-null   object \n",
      "dtypes: float64(3), object(8)\n",
      "memory usage: 1.1+ MB\n"
     ]
    }
   ],
   "source": [
    "retail_sales_data.info()"
   ]
  },
  {
   "cell_type": "code",
   "execution_count": 7,
   "metadata": {},
   "outputs": [
    {
     "data": {
      "text/plain": [
       "Transaction ID         0\n",
       "Customer ID            0\n",
       "Category               0\n",
       "Item                1213\n",
       "Price Per Unit       609\n",
       "Quantity             604\n",
       "Total Spent          604\n",
       "Payment Method         0\n",
       "Location               0\n",
       "Transaction Date       0\n",
       "Discount Applied    4199\n",
       "dtype: int64"
      ]
     },
     "execution_count": 7,
     "metadata": {},
     "output_type": "execute_result"
    }
   ],
   "source": [
    "retail_sales_data.isnull().sum()"
   ]
  },
  {
   "cell_type": "markdown",
   "metadata": {},
   "source": [
    "#### what I have understood\n",
    "- Categories - 8\n",
    "- Items - 200/8 = 25, \n",
    "- which means there are 25 items under each category(8), which makes 200 unique items.\n",
    "Price Per unit - "
   ]
  },
  {
   "cell_type": "markdown",
   "metadata": {},
   "source": [
    "#### Here are the categories "
   ]
  },
  {
   "cell_type": "code",
   "execution_count": 8,
   "metadata": {},
   "outputs": [
    {
     "data": {
      "text/plain": [
       "array(['Patisserie', 'Milk Products', 'Butchers', 'Beverages', 'Food',\n",
       "       'Furniture', 'Electric household essentials',\n",
       "       'Computers and electric accessories'], dtype=object)"
      ]
     },
     "execution_count": 8,
     "metadata": {},
     "output_type": "execute_result"
    }
   ],
   "source": [
    "retail_sales_data['Category'].unique()"
   ]
  },
  {
   "cell_type": "code",
   "execution_count": 9,
   "metadata": {},
   "outputs": [],
   "source": [
    "items_list = retail_sales_data['Item'].unique()"
   ]
  },
  {
   "cell_type": "code",
   "execution_count": 10,
   "metadata": {},
   "outputs": [
    {
     "data": {
      "text/plain": [
       "201"
      ]
     },
     "execution_count": 10,
     "metadata": {},
     "output_type": "execute_result"
    }
   ],
   "source": [
    "len(items_list) "
   ]
  },
  {
   "cell_type": "code",
   "execution_count": 11,
   "metadata": {},
   "outputs": [
    {
     "name": "stdout",
     "output_type": "stream",
     "text": [
      "[18.5 29.  21.5 27.5 12.5  nan  5.  33.5 36.5  8.   6.5 39.5 24.5 23.\n",
      " 35.  14.   9.5 41.  20.  38.  15.5 11.  32.  26.  30.5 17. ]\n",
      "26\n"
     ]
    }
   ],
   "source": [
    "price_per_unit_list = (retail_sales_data['Price Per Unit'].unique())\n",
    "print(price_per_unit_list)\n",
    "print(len(price_per_unit_list))"
   ]
  },
  {
   "cell_type": "code",
   "execution_count": 12,
   "metadata": {},
   "outputs": [
    {
     "name": "stdout",
     "output_type": "stream",
     "text": [
      "             Item  Price Per Unit\n",
      "0     Item_10_BEV            18.5\n",
      "1     Item_10_BUT            18.5\n",
      "2     Item_10_CEA            18.5\n",
      "3     Item_10_EHE            18.5\n",
      "4    Item_10_FOOD            18.5\n",
      "..            ...             ...\n",
      "195    Item_9_EHE            17.0\n",
      "196   Item_9_FOOD            17.0\n",
      "197    Item_9_FUR            17.0\n",
      "198   Item_9_MILK            17.0\n",
      "199    Item_9_PAT            17.0\n",
      "\n",
      "[200 rows x 2 columns]\n"
     ]
    }
   ],
   "source": [
    "item_price_summary = retail_sales_data.groupby('Item')['Price Per Unit'].unique().reset_index()\n",
    "\n",
    "item_price_summary['Price Per Unit'] = item_price_summary['Price Per Unit'].str[0]\n",
    "\n",
    "print(item_price_summary)"
   ]
  },
  {
   "cell_type": "code",
   "execution_count": 13,
   "metadata": {},
   "outputs": [],
   "source": [
    "unique_price_with_items = item_price_summary.groupby('Price Per Unit')"
   ]
  },
  {
   "cell_type": "code",
   "execution_count": null,
   "metadata": {},
   "outputs": [
    {
     "name": "stdout",
     "output_type": "stream",
     "text": [
      "           Item  Price Per Unit\n",
      "84  Item_1_FOOD             5.0\n",
      "           Item  Price Per Unit\n",
      "143  Item_2_PAT             6.5\n",
      "            Item  Price Per Unit\n",
      "150  Item_3_MILK             8.0\n",
      "           Item  Price Per Unit\n",
      "159  Item_4_PAT             9.5\n",
      "           Item  Price Per Unit\n",
      "163  Item_5_EHE            11.0\n",
      "           Item  Price Per Unit\n",
      "168  Item_6_BEV            12.5\n",
      "           Item  Price Per Unit\n",
      "177  Item_7_BUT            14.0\n",
      "           Item  Price Per Unit\n",
      "186  Item_8_CEA            15.5\n",
      "           Item  Price Per Unit\n",
      "195  Item_9_EHE            17.0\n",
      "          Item  Price Per Unit\n",
      "2  Item_10_CEA            18.5\n",
      "            Item  Price Per Unit\n",
      "12  Item_11_FOOD            20.0\n",
      "           Item  Price Per Unit\n",
      "19  Item_12_EHE            21.5\n",
      "            Item  Price Per Unit\n",
      "28  Item_13_FOOD            23.0\n",
      "           Item  Price Per Unit\n",
      "35  Item_14_EHE            24.5\n",
      "           Item  Price Per Unit\n",
      "42  Item_15_CEA            26.0\n",
      "           Item  Price Per Unit\n",
      "55  Item_16_PAT            27.5\n",
      "           Item  Price Per Unit\n",
      "63  Item_17_PAT            29.0\n",
      "           Item  Price Per Unit\n",
      "65  Item_18_BUT            30.5\n",
      "           Item  Price Per Unit\n",
      "73  Item_19_BUT            32.0\n",
      "           Item  Price Per Unit\n",
      "90  Item_20_CEA            33.5\n",
      "           Item  Price Per Unit\n",
      "98  Item_21_CEA            35.0\n",
      "             Item  Price Per Unit\n",
      "108  Item_22_FOOD            36.5\n",
      "            Item  Price Per Unit\n",
      "117  Item_23_FUR            38.0\n",
      "            Item  Price Per Unit\n",
      "122  Item_24_CEA            39.5\n",
      "             Item  Price Per Unit\n",
      "132  Item_25_FOOD            41.0\n"
     ]
    }
   ],
   "source": [
    "for price, group in unique_price_with_items:\n",
    "    print(group.sample(n=1))\n"
   ]
  },
  {
   "cell_type": "markdown",
   "metadata": {},
   "source": [
    "As you can see, Inspite of the category each item have unique price, from 5 to 41"
   ]
  },
  {
   "cell_type": "markdown",
   "metadata": {},
   "source": [
    "- item 1 = 5.0\n",
    "- item 2 = 6.5\n",
    "- item 3 = 8.0\n",
    "- item 4 = 9.5\n",
    "- item 5 = 11.0\n",
    "- item 6 = 12.5\n",
    "- item 7 = 14.0\n",
    "- item 8 = 15.5\n",
    "- item 9 = 17.0\n",
    "- item 10 = 18.5\n",
    "- item 11 = 20.0\n",
    "- item 12 = 21.5\n",
    "- item 13 = 23.0\n",
    "- item 14 = 24.5\n",
    "- item 15 = 26.0 \n",
    "- item 16 = 27.5\n",
    "- item 17 = 29.0\n",
    "- item 18 = 30.5\n",
    "- item 19 = 32.0\n",
    "- item 20 = 33.5\n",
    "- item 21 = 35.0\n",
    "- item 22 = 36.5\n",
    "- item 23 = 38.0\n",
    "- item 24 = 39.5\n",
    "- item 25 = 41.0"
   ]
  },
  {
   "cell_type": "code",
   "execution_count": 15,
   "metadata": {},
   "outputs": [
    {
     "name": "stdout",
     "output_type": "stream",
     "text": [
      "[10.  9.  2.  7.  8. nan  1.  3.  6.  4.  5.]\n"
     ]
    }
   ],
   "source": [
    "quantity_list = retail_sales_data['Quantity'].unique()\n",
    "print(quantity_list)"
   ]
  },
  {
   "cell_type": "code",
   "execution_count": 16,
   "metadata": {},
   "outputs": [
    {
     "data": {
      "application/vnd.microsoft.datawrangler.viewer.v0+json": {
       "columns": [
        {
         "name": "index",
         "rawType": "int64",
         "type": "integer"
        },
        {
         "name": "Customer ID",
         "rawType": "object",
         "type": "string"
        },
        {
         "name": "Location",
         "rawType": "object",
         "type": "string"
        }
       ],
       "conversionMethod": "pd.DataFrame",
       "ref": "b3a5cfd3-b813-4756-af0a-0ee9ab91f2be",
       "rows": [
        [
         "0",
         "CUST_09",
         "Online"
        ],
        [
         "1",
         "CUST_22",
         "Online"
        ],
        [
         "2",
         "CUST_02",
         "Online"
        ],
        [
         "3",
         "CUST_06",
         "Online"
        ],
        [
         "4",
         "CUST_05",
         "Online"
        ],
        [
         "5",
         "CUST_09",
         "Online"
        ],
        [
         "6",
         "CUST_07",
         "In-store"
        ],
        [
         "7",
         "CUST_21",
         "In-store"
        ],
        [
         "8",
         "CUST_23",
         "In-store"
        ],
        [
         "9",
         "CUST_25",
         "Online"
        ],
        [
         "10",
         "CUST_22",
         "In-store"
        ],
        [
         "11",
         "CUST_09",
         "In-store"
        ],
        [
         "12",
         "CUST_23",
         "Online"
        ],
        [
         "13",
         "CUST_14",
         "In-store"
        ],
        [
         "14",
         "CUST_09",
         "Online"
        ],
        [
         "15",
         "CUST_14",
         "In-store"
        ],
        [
         "16",
         "CUST_23",
         "Online"
        ],
        [
         "17",
         "CUST_15",
         "Online"
        ],
        [
         "18",
         "CUST_17",
         "In-store"
        ],
        [
         "19",
         "CUST_01",
         "Online"
        ],
        [
         "20",
         "CUST_14",
         "In-store"
        ],
        [
         "21",
         "CUST_15",
         "In-store"
        ],
        [
         "22",
         "CUST_10",
         "In-store"
        ],
        [
         "23",
         "CUST_04",
         "Online"
        ],
        [
         "24",
         "CUST_13",
         "Online"
        ],
        [
         "25",
         "CUST_05",
         "Online"
        ],
        [
         "26",
         "CUST_18",
         "In-store"
        ],
        [
         "27",
         "CUST_14",
         "In-store"
        ],
        [
         "28",
         "CUST_08",
         "In-store"
        ],
        [
         "29",
         "CUST_18",
         "In-store"
        ],
        [
         "30",
         "CUST_05",
         "Online"
        ],
        [
         "31",
         "CUST_22",
         "Online"
        ],
        [
         "32",
         "CUST_20",
         "Online"
        ],
        [
         "33",
         "CUST_12",
         "In-store"
        ],
        [
         "34",
         "CUST_06",
         "In-store"
        ],
        [
         "35",
         "CUST_15",
         "In-store"
        ],
        [
         "36",
         "CUST_02",
         "In-store"
        ],
        [
         "37",
         "CUST_11",
         "Online"
        ],
        [
         "38",
         "CUST_14",
         "Online"
        ],
        [
         "39",
         "CUST_19",
         "In-store"
        ],
        [
         "40",
         "CUST_16",
         "Online"
        ],
        [
         "41",
         "CUST_16",
         "Online"
        ],
        [
         "42",
         "CUST_25",
         "In-store"
        ],
        [
         "43",
         "CUST_24",
         "In-store"
        ],
        [
         "44",
         "CUST_25",
         "In-store"
        ],
        [
         "45",
         "CUST_20",
         "Online"
        ],
        [
         "46",
         "CUST_04",
         "Online"
        ],
        [
         "47",
         "CUST_12",
         "Online"
        ],
        [
         "48",
         "CUST_13",
         "Online"
        ],
        [
         "49",
         "CUST_25",
         "In-store"
        ]
       ],
       "shape": {
        "columns": 2,
        "rows": 12575
       }
      },
      "text/html": [
       "<div>\n",
       "<style scoped>\n",
       "    .dataframe tbody tr th:only-of-type {\n",
       "        vertical-align: middle;\n",
       "    }\n",
       "\n",
       "    .dataframe tbody tr th {\n",
       "        vertical-align: top;\n",
       "    }\n",
       "\n",
       "    .dataframe thead th {\n",
       "        text-align: right;\n",
       "    }\n",
       "</style>\n",
       "<table border=\"1\" class=\"dataframe\">\n",
       "  <thead>\n",
       "    <tr style=\"text-align: right;\">\n",
       "      <th></th>\n",
       "      <th>Customer ID</th>\n",
       "      <th>Location</th>\n",
       "    </tr>\n",
       "  </thead>\n",
       "  <tbody>\n",
       "    <tr>\n",
       "      <th>0</th>\n",
       "      <td>CUST_09</td>\n",
       "      <td>Online</td>\n",
       "    </tr>\n",
       "    <tr>\n",
       "      <th>1</th>\n",
       "      <td>CUST_22</td>\n",
       "      <td>Online</td>\n",
       "    </tr>\n",
       "    <tr>\n",
       "      <th>2</th>\n",
       "      <td>CUST_02</td>\n",
       "      <td>Online</td>\n",
       "    </tr>\n",
       "    <tr>\n",
       "      <th>3</th>\n",
       "      <td>CUST_06</td>\n",
       "      <td>Online</td>\n",
       "    </tr>\n",
       "    <tr>\n",
       "      <th>4</th>\n",
       "      <td>CUST_05</td>\n",
       "      <td>Online</td>\n",
       "    </tr>\n",
       "    <tr>\n",
       "      <th>...</th>\n",
       "      <td>...</td>\n",
       "      <td>...</td>\n",
       "    </tr>\n",
       "    <tr>\n",
       "      <th>12570</th>\n",
       "      <td>CUST_18</td>\n",
       "      <td>In-store</td>\n",
       "    </tr>\n",
       "    <tr>\n",
       "      <th>12571</th>\n",
       "      <td>CUST_03</td>\n",
       "      <td>Online</td>\n",
       "    </tr>\n",
       "    <tr>\n",
       "      <th>12572</th>\n",
       "      <td>CUST_11</td>\n",
       "      <td>Online</td>\n",
       "    </tr>\n",
       "    <tr>\n",
       "      <th>12573</th>\n",
       "      <td>CUST_04</td>\n",
       "      <td>Online</td>\n",
       "    </tr>\n",
       "    <tr>\n",
       "      <th>12574</th>\n",
       "      <td>CUST_23</td>\n",
       "      <td>Online</td>\n",
       "    </tr>\n",
       "  </tbody>\n",
       "</table>\n",
       "<p>12575 rows × 2 columns</p>\n",
       "</div>"
      ],
      "text/plain": [
       "      Customer ID  Location\n",
       "0         CUST_09    Online\n",
       "1         CUST_22    Online\n",
       "2         CUST_02    Online\n",
       "3         CUST_06    Online\n",
       "4         CUST_05    Online\n",
       "...           ...       ...\n",
       "12570     CUST_18  In-store\n",
       "12571     CUST_03    Online\n",
       "12572     CUST_11    Online\n",
       "12573     CUST_04    Online\n",
       "12574     CUST_23    Online\n",
       "\n",
       "[12575 rows x 2 columns]"
      ]
     },
     "execution_count": 16,
     "metadata": {},
     "output_type": "execute_result"
    }
   ],
   "source": [
    "customer_table = retail_sales_data[[\"Customer ID\",\"Location\"]]\n",
    "customer_table"
   ]
  },
  {
   "cell_type": "code",
   "execution_count": 17,
   "metadata": {},
   "outputs": [
    {
     "data": {
      "application/vnd.microsoft.datawrangler.viewer.v0+json": {
       "columns": [
        {
         "name": "index",
         "rawType": "int64",
         "type": "integer"
        },
        {
         "name": "Transaction ID",
         "rawType": "object",
         "type": "string"
        },
        {
         "name": "Customer ID",
         "rawType": "object",
         "type": "string"
        },
        {
         "name": "Transaction Date",
         "rawType": "object",
         "type": "string"
        },
        {
         "name": "Payment Method",
         "rawType": "object",
         "type": "string"
        },
        {
         "name": "Discount Applied",
         "rawType": "object",
         "type": "unknown"
        }
       ],
       "conversionMethod": "pd.DataFrame",
       "ref": "1f9529d7-f1e2-4de0-9bb4-4662a0a0e98a",
       "rows": [
        [
         "0",
         "TXN_6867343",
         "CUST_09",
         "2024-04-08",
         "Digital Wallet",
         "True"
        ],
        [
         "1",
         "TXN_3731986",
         "CUST_22",
         "2023-07-23",
         "Digital Wallet",
         "True"
        ],
        [
         "2",
         "TXN_9303719",
         "CUST_02",
         "2022-10-05",
         "Credit Card",
         "False"
        ],
        [
         "3",
         "TXN_9458126",
         "CUST_06",
         "2022-05-07",
         "Credit Card",
         null
        ],
        [
         "4",
         "TXN_4575373",
         "CUST_05",
         "2022-10-02",
         "Digital Wallet",
         "False"
        ],
        [
         "5",
         "TXN_7482416",
         "CUST_09",
         "2023-11-30",
         "Credit Card",
         null
        ],
        [
         "6",
         "TXN_3652209",
         "CUST_07",
         "2023-06-10",
         "Credit Card",
         "True"
        ],
        [
         "7",
         "TXN_1372952",
         "CUST_21",
         "2024-04-02",
         "Digital Wallet",
         "True"
        ],
        [
         "8",
         "TXN_9728486",
         "CUST_23",
         "2023-04-26",
         "Credit Card",
         "False"
        ],
        [
         "9",
         "TXN_2722661",
         "CUST_25",
         "2024-03-14",
         "Cash",
         "False"
        ],
        [
         "10",
         "TXN_8776416",
         "CUST_22",
         "2024-12-14",
         "Cash",
         "True"
        ],
        [
         "11",
         "TXN_5422631",
         "CUST_09",
         "2025-01-12",
         "Digital Wallet",
         "True"
        ],
        [
         "12",
         "TXN_5874772",
         "CUST_23",
         "2023-09-09",
         "Cash",
         "True"
        ],
        [
         "13",
         "TXN_4413070",
         "CUST_14",
         "2022-05-20",
         "Digital Wallet",
         "False"
        ],
        [
         "14",
         "TXN_2490363",
         "CUST_09",
         "2022-05-22",
         "Digital Wallet",
         null
        ],
        [
         "15",
         "TXN_1809665",
         "CUST_14",
         "2022-05-11",
         "Credit Card",
         null
        ],
        [
         "16",
         "TXN_7563311",
         "CUST_23",
         "2024-11-16",
         "Cash",
         "True"
        ],
        [
         "17",
         "TXN_9634894",
         "CUST_15",
         "2022-04-17",
         "Digital Wallet",
         null
        ],
        [
         "18",
         "TXN_4396807",
         "CUST_17",
         "2022-02-07",
         "Digital Wallet",
         "False"
        ],
        [
         "19",
         "TXN_4206593",
         "CUST_01",
         "2025-01-13",
         "Digital Wallet",
         "False"
        ],
        [
         "20",
         "TXN_9939063",
         "CUST_14",
         "2024-01-14",
         "Digital Wallet",
         null
        ],
        [
         "21",
         "TXN_8685338",
         "CUST_15",
         "2023-10-29",
         "Credit Card",
         null
        ],
        [
         "22",
         "TXN_6547964",
         "CUST_10",
         "2022-08-15",
         "Cash",
         null
        ],
        [
         "23",
         "TXN_3314099",
         "CUST_04",
         "2023-09-30",
         "Cash",
         "False"
        ],
        [
         "24",
         "TXN_9980736",
         "CUST_13",
         "2023-08-29",
         "Cash",
         "False"
        ],
        [
         "25",
         "TXN_3481599",
         "CUST_05",
         "2022-09-08",
         "Cash",
         "False"
        ],
        [
         "26",
         "TXN_9057609",
         "CUST_18",
         "2022-03-16",
         "Credit Card",
         "True"
        ],
        [
         "27",
         "TXN_1599706",
         "CUST_14",
         "2024-03-24",
         "Credit Card",
         "True"
        ],
        [
         "28",
         "TXN_1598860",
         "CUST_08",
         "2022-10-23",
         "Cash",
         "True"
        ],
        [
         "29",
         "TXN_7138501",
         "CUST_18",
         "2022-03-10",
         "Credit Card",
         "False"
        ],
        [
         "30",
         "TXN_5444504",
         "CUST_05",
         "2022-04-26",
         "Digital Wallet",
         "False"
        ],
        [
         "31",
         "TXN_4353295",
         "CUST_22",
         "2022-04-05",
         "Credit Card",
         "True"
        ],
        [
         "32",
         "TXN_1543244",
         "CUST_20",
         "2024-10-25",
         "Credit Card",
         "True"
        ],
        [
         "33",
         "TXN_1494700",
         "CUST_12",
         "2024-03-07",
         "Credit Card",
         null
        ],
        [
         "34",
         "TXN_1621497",
         "CUST_06",
         "2023-02-18",
         "Cash",
         null
        ],
        [
         "35",
         "TXN_6398436",
         "CUST_15",
         "2024-06-03",
         "Credit Card",
         "True"
        ],
        [
         "36",
         "TXN_9065245",
         "CUST_02",
         "2024-03-10",
         "Digital Wallet",
         "False"
        ],
        [
         "37",
         "TXN_6963438",
         "CUST_11",
         "2024-04-23",
         "Credit Card",
         "True"
        ],
        [
         "38",
         "TXN_8312797",
         "CUST_14",
         "2022-06-03",
         "Digital Wallet",
         null
        ],
        [
         "39",
         "TXN_5836005",
         "CUST_19",
         "2024-10-19",
         "Credit Card",
         "False"
        ],
        [
         "40",
         "TXN_4223250",
         "CUST_16",
         "2023-05-31",
         "Cash",
         "True"
        ],
        [
         "41",
         "TXN_1019817",
         "CUST_16",
         "2022-08-01",
         "Cash",
         null
        ],
        [
         "42",
         "TXN_1110407",
         "CUST_25",
         "2022-10-21",
         "Digital Wallet",
         null
        ],
        [
         "43",
         "TXN_6276518",
         "CUST_24",
         "2024-04-08",
         "Cash",
         null
        ],
        [
         "44",
         "TXN_4740738",
         "CUST_25",
         "2022-04-19",
         "Digital Wallet",
         null
        ],
        [
         "45",
         "TXN_9587232",
         "CUST_20",
         "2023-02-28",
         "Digital Wallet",
         "True"
        ],
        [
         "46",
         "TXN_6404316",
         "CUST_04",
         "2022-04-06",
         "Credit Card",
         "False"
        ],
        [
         "47",
         "TXN_9331642",
         "CUST_12",
         "2022-07-06",
         "Credit Card",
         "True"
        ],
        [
         "48",
         "TXN_9729422",
         "CUST_13",
         "2024-12-31",
         "Credit Card",
         "True"
        ],
        [
         "49",
         "TXN_8425168",
         "CUST_25",
         "2022-03-12",
         "Cash",
         null
        ]
       ],
       "shape": {
        "columns": 5,
        "rows": 12575
       }
      },
      "text/html": [
       "<div>\n",
       "<style scoped>\n",
       "    .dataframe tbody tr th:only-of-type {\n",
       "        vertical-align: middle;\n",
       "    }\n",
       "\n",
       "    .dataframe tbody tr th {\n",
       "        vertical-align: top;\n",
       "    }\n",
       "\n",
       "    .dataframe thead th {\n",
       "        text-align: right;\n",
       "    }\n",
       "</style>\n",
       "<table border=\"1\" class=\"dataframe\">\n",
       "  <thead>\n",
       "    <tr style=\"text-align: right;\">\n",
       "      <th></th>\n",
       "      <th>Transaction ID</th>\n",
       "      <th>Customer ID</th>\n",
       "      <th>Transaction Date</th>\n",
       "      <th>Payment Method</th>\n",
       "      <th>Discount Applied</th>\n",
       "    </tr>\n",
       "  </thead>\n",
       "  <tbody>\n",
       "    <tr>\n",
       "      <th>0</th>\n",
       "      <td>TXN_6867343</td>\n",
       "      <td>CUST_09</td>\n",
       "      <td>2024-04-08</td>\n",
       "      <td>Digital Wallet</td>\n",
       "      <td>True</td>\n",
       "    </tr>\n",
       "    <tr>\n",
       "      <th>1</th>\n",
       "      <td>TXN_3731986</td>\n",
       "      <td>CUST_22</td>\n",
       "      <td>2023-07-23</td>\n",
       "      <td>Digital Wallet</td>\n",
       "      <td>True</td>\n",
       "    </tr>\n",
       "    <tr>\n",
       "      <th>2</th>\n",
       "      <td>TXN_9303719</td>\n",
       "      <td>CUST_02</td>\n",
       "      <td>2022-10-05</td>\n",
       "      <td>Credit Card</td>\n",
       "      <td>False</td>\n",
       "    </tr>\n",
       "    <tr>\n",
       "      <th>3</th>\n",
       "      <td>TXN_9458126</td>\n",
       "      <td>CUST_06</td>\n",
       "      <td>2022-05-07</td>\n",
       "      <td>Credit Card</td>\n",
       "      <td>NaN</td>\n",
       "    </tr>\n",
       "    <tr>\n",
       "      <th>4</th>\n",
       "      <td>TXN_4575373</td>\n",
       "      <td>CUST_05</td>\n",
       "      <td>2022-10-02</td>\n",
       "      <td>Digital Wallet</td>\n",
       "      <td>False</td>\n",
       "    </tr>\n",
       "    <tr>\n",
       "      <th>...</th>\n",
       "      <td>...</td>\n",
       "      <td>...</td>\n",
       "      <td>...</td>\n",
       "      <td>...</td>\n",
       "      <td>...</td>\n",
       "    </tr>\n",
       "    <tr>\n",
       "      <th>12570</th>\n",
       "      <td>TXN_9347481</td>\n",
       "      <td>CUST_18</td>\n",
       "      <td>2023-09-03</td>\n",
       "      <td>Credit Card</td>\n",
       "      <td>NaN</td>\n",
       "    </tr>\n",
       "    <tr>\n",
       "      <th>12571</th>\n",
       "      <td>TXN_4009414</td>\n",
       "      <td>CUST_03</td>\n",
       "      <td>2022-08-12</td>\n",
       "      <td>Cash</td>\n",
       "      <td>False</td>\n",
       "    </tr>\n",
       "    <tr>\n",
       "      <th>12572</th>\n",
       "      <td>TXN_5306010</td>\n",
       "      <td>CUST_11</td>\n",
       "      <td>2024-08-24</td>\n",
       "      <td>Cash</td>\n",
       "      <td>NaN</td>\n",
       "    </tr>\n",
       "    <tr>\n",
       "      <th>12573</th>\n",
       "      <td>TXN_5167298</td>\n",
       "      <td>CUST_04</td>\n",
       "      <td>2023-12-30</td>\n",
       "      <td>Cash</td>\n",
       "      <td>True</td>\n",
       "    </tr>\n",
       "    <tr>\n",
       "      <th>12574</th>\n",
       "      <td>TXN_2407494</td>\n",
       "      <td>CUST_23</td>\n",
       "      <td>2022-08-06</td>\n",
       "      <td>Cash</td>\n",
       "      <td>NaN</td>\n",
       "    </tr>\n",
       "  </tbody>\n",
       "</table>\n",
       "<p>12575 rows × 5 columns</p>\n",
       "</div>"
      ],
      "text/plain": [
       "      Transaction ID Customer ID Transaction Date  Payment Method  \\\n",
       "0        TXN_6867343     CUST_09       2024-04-08  Digital Wallet   \n",
       "1        TXN_3731986     CUST_22       2023-07-23  Digital Wallet   \n",
       "2        TXN_9303719     CUST_02       2022-10-05     Credit Card   \n",
       "3        TXN_9458126     CUST_06       2022-05-07     Credit Card   \n",
       "4        TXN_4575373     CUST_05       2022-10-02  Digital Wallet   \n",
       "...              ...         ...              ...             ...   \n",
       "12570    TXN_9347481     CUST_18       2023-09-03     Credit Card   \n",
       "12571    TXN_4009414     CUST_03       2022-08-12            Cash   \n",
       "12572    TXN_5306010     CUST_11       2024-08-24            Cash   \n",
       "12573    TXN_5167298     CUST_04       2023-12-30            Cash   \n",
       "12574    TXN_2407494     CUST_23       2022-08-06            Cash   \n",
       "\n",
       "      Discount Applied  \n",
       "0                 True  \n",
       "1                 True  \n",
       "2                False  \n",
       "3                  NaN  \n",
       "4                False  \n",
       "...                ...  \n",
       "12570              NaN  \n",
       "12571            False  \n",
       "12572              NaN  \n",
       "12573             True  \n",
       "12574              NaN  \n",
       "\n",
       "[12575 rows x 5 columns]"
      ]
     },
     "execution_count": 17,
     "metadata": {},
     "output_type": "execute_result"
    }
   ],
   "source": [
    "Transaction_table = retail_sales_data[[\"Transaction ID\", \"Customer ID\", \"Transaction Date\", \"Payment Method\", \"Discount Applied\"]]\n",
    "Transaction_table"
   ]
  },
  {
   "cell_type": "code",
   "execution_count": 18,
   "metadata": {},
   "outputs": [
    {
     "data": {
      "application/vnd.microsoft.datawrangler.viewer.v0+json": {
       "columns": [
        {
         "name": "index",
         "rawType": "int64",
         "type": "integer"
        },
        {
         "name": "Category",
         "rawType": "object",
         "type": "string"
        },
        {
         "name": "Item",
         "rawType": "object",
         "type": "unknown"
        },
        {
         "name": "Price Per Unit",
         "rawType": "float64",
         "type": "float"
        }
       ],
       "conversionMethod": "pd.DataFrame",
       "ref": "0c433c4d-faac-4c0e-bc07-e6f1fc88a133",
       "rows": [
        [
         "0",
         "Patisserie",
         "Item_10_PAT",
         "18.5"
        ],
        [
         "1",
         "Milk Products",
         "Item_17_MILK",
         "29.0"
        ],
        [
         "2",
         "Butchers",
         "Item_12_BUT",
         "21.5"
        ],
        [
         "3",
         "Beverages",
         "Item_16_BEV",
         "27.5"
        ],
        [
         "4",
         "Food",
         "Item_6_FOOD",
         "12.5"
        ],
        [
         "5",
         "Patisserie",
         null,
         null
        ],
        [
         "6",
         "Food",
         "Item_1_FOOD",
         "5.0"
        ],
        [
         "7",
         "Furniture",
         null,
         "33.5"
        ],
        [
         "8",
         "Furniture",
         "Item_16_FUR",
         "27.5"
        ],
        [
         "9",
         "Butchers",
         "Item_22_BUT",
         "36.5"
        ],
        [
         "10",
         "Butchers",
         "Item_3_BUT",
         "8.0"
        ],
        [
         "11",
         "Milk Products",
         null,
         null
        ],
        [
         "12",
         "Food",
         "Item_2_FOOD",
         "6.5"
        ],
        [
         "13",
         "Patisserie",
         "Item_24_PAT",
         "39.5"
        ],
        [
         "14",
         "Milk Products",
         "Item_16_MILK",
         "27.5"
        ],
        [
         "15",
         "Beverages",
         null,
         "24.5"
        ],
        [
         "16",
         "Patisserie",
         "Item_17_PAT",
         "29.0"
        ],
        [
         "17",
         "Milk Products",
         null,
         null
        ],
        [
         "18",
         "Electric household essentials",
         "Item_13_EHE",
         "23.0"
        ],
        [
         "19",
         "Furniture",
         null,
         "35.0"
        ],
        [
         "20",
         "Beverages",
         "Item_7_BEV",
         "14.0"
        ],
        [
         "21",
         "Milk Products",
         null,
         null
        ],
        [
         "22",
         "Electric household essentials",
         "Item_4_EHE",
         "9.5"
        ],
        [
         "23",
         "Food",
         "Item_10_FOOD",
         "18.5"
        ],
        [
         "24",
         "Furniture",
         "Item_14_FUR",
         "24.5"
        ],
        [
         "25",
         "Furniture",
         null,
         "39.5"
        ],
        [
         "26",
         "Butchers",
         "Item_20_BUT",
         "33.5"
        ],
        [
         "27",
         "Furniture",
         "Item_25_FUR",
         "41.0"
        ],
        [
         "28",
         "Food",
         "Item_14_FOOD",
         "24.5"
        ],
        [
         "29",
         "Patisserie",
         "Item_22_PAT",
         "36.5"
        ],
        [
         "30",
         "Food",
         "Item_11_FOOD",
         "20.0"
        ],
        [
         "31",
         "Patisserie",
         "Item_6_PAT",
         "12.5"
        ],
        [
         "32",
         "Food",
         null,
         null
        ],
        [
         "33",
         "Electric household essentials",
         "Item_21_EHE",
         "35.0"
        ],
        [
         "34",
         "Patisserie",
         null,
         "23.0"
        ],
        [
         "35",
         "Beverages",
         "Item_25_BEV",
         "41.0"
        ],
        [
         "36",
         "Food",
         "Item_23_FOOD",
         "38.0"
        ],
        [
         "37",
         "Furniture",
         "Item_10_FUR",
         "18.5"
        ],
        [
         "38",
         "Beverages",
         "Item_11_BEV",
         "20.0"
        ],
        [
         "39",
         "Butchers",
         "Item_23_BUT",
         "38.0"
        ],
        [
         "40",
         "Beverages",
         "Item_22_BEV",
         "36.5"
        ],
        [
         "41",
         "Electric household essentials",
         "Item_10_EHE",
         "18.5"
        ],
        [
         "42",
         "Butchers",
         "Item_24_BUT",
         "39.5"
        ],
        [
         "43",
         "Beverages",
         "Item_8_BEV",
         "15.5"
        ],
        [
         "44",
         "Food",
         "Item_3_FOOD",
         "8.0"
        ],
        [
         "45",
         "Food",
         "Item_12_FOOD",
         "21.5"
        ],
        [
         "46",
         "Computers and electric accessories",
         "Item_16_CEA",
         "27.5"
        ],
        [
         "47",
         "Patisserie",
         "Item_11_PAT",
         "20.0"
        ],
        [
         "48",
         "Butchers",
         "Item_16_BUT",
         "27.5"
        ],
        [
         "49",
         "Milk Products",
         "Item_16_MILK",
         "27.5"
        ]
       ],
       "shape": {
        "columns": 3,
        "rows": 12575
       }
      },
      "text/html": [
       "<div>\n",
       "<style scoped>\n",
       "    .dataframe tbody tr th:only-of-type {\n",
       "        vertical-align: middle;\n",
       "    }\n",
       "\n",
       "    .dataframe tbody tr th {\n",
       "        vertical-align: top;\n",
       "    }\n",
       "\n",
       "    .dataframe thead th {\n",
       "        text-align: right;\n",
       "    }\n",
       "</style>\n",
       "<table border=\"1\" class=\"dataframe\">\n",
       "  <thead>\n",
       "    <tr style=\"text-align: right;\">\n",
       "      <th></th>\n",
       "      <th>Category</th>\n",
       "      <th>Item</th>\n",
       "      <th>Price Per Unit</th>\n",
       "    </tr>\n",
       "  </thead>\n",
       "  <tbody>\n",
       "    <tr>\n",
       "      <th>0</th>\n",
       "      <td>Patisserie</td>\n",
       "      <td>Item_10_PAT</td>\n",
       "      <td>18.5</td>\n",
       "    </tr>\n",
       "    <tr>\n",
       "      <th>1</th>\n",
       "      <td>Milk Products</td>\n",
       "      <td>Item_17_MILK</td>\n",
       "      <td>29.0</td>\n",
       "    </tr>\n",
       "    <tr>\n",
       "      <th>2</th>\n",
       "      <td>Butchers</td>\n",
       "      <td>Item_12_BUT</td>\n",
       "      <td>21.5</td>\n",
       "    </tr>\n",
       "    <tr>\n",
       "      <th>3</th>\n",
       "      <td>Beverages</td>\n",
       "      <td>Item_16_BEV</td>\n",
       "      <td>27.5</td>\n",
       "    </tr>\n",
       "    <tr>\n",
       "      <th>4</th>\n",
       "      <td>Food</td>\n",
       "      <td>Item_6_FOOD</td>\n",
       "      <td>12.5</td>\n",
       "    </tr>\n",
       "    <tr>\n",
       "      <th>...</th>\n",
       "      <td>...</td>\n",
       "      <td>...</td>\n",
       "      <td>...</td>\n",
       "    </tr>\n",
       "    <tr>\n",
       "      <th>12570</th>\n",
       "      <td>Patisserie</td>\n",
       "      <td>Item_23_PAT</td>\n",
       "      <td>38.0</td>\n",
       "    </tr>\n",
       "    <tr>\n",
       "      <th>12571</th>\n",
       "      <td>Beverages</td>\n",
       "      <td>Item_2_BEV</td>\n",
       "      <td>6.5</td>\n",
       "    </tr>\n",
       "    <tr>\n",
       "      <th>12572</th>\n",
       "      <td>Butchers</td>\n",
       "      <td>Item_7_BUT</td>\n",
       "      <td>14.0</td>\n",
       "    </tr>\n",
       "    <tr>\n",
       "      <th>12573</th>\n",
       "      <td>Furniture</td>\n",
       "      <td>Item_7_FUR</td>\n",
       "      <td>14.0</td>\n",
       "    </tr>\n",
       "    <tr>\n",
       "      <th>12574</th>\n",
       "      <td>Food</td>\n",
       "      <td>Item_9_FOOD</td>\n",
       "      <td>17.0</td>\n",
       "    </tr>\n",
       "  </tbody>\n",
       "</table>\n",
       "<p>12575 rows × 3 columns</p>\n",
       "</div>"
      ],
      "text/plain": [
       "            Category          Item  Price Per Unit\n",
       "0         Patisserie   Item_10_PAT            18.5\n",
       "1      Milk Products  Item_17_MILK            29.0\n",
       "2           Butchers   Item_12_BUT            21.5\n",
       "3          Beverages   Item_16_BEV            27.5\n",
       "4               Food   Item_6_FOOD            12.5\n",
       "...              ...           ...             ...\n",
       "12570     Patisserie   Item_23_PAT            38.0\n",
       "12571      Beverages    Item_2_BEV             6.5\n",
       "12572       Butchers    Item_7_BUT            14.0\n",
       "12573      Furniture    Item_7_FUR            14.0\n",
       "12574           Food   Item_9_FOOD            17.0\n",
       "\n",
       "[12575 rows x 3 columns]"
      ]
     },
     "execution_count": 18,
     "metadata": {},
     "output_type": "execute_result"
    }
   ],
   "source": [
    "Item_table = retail_sales_data[[\"Category\",\"Item\",\"Price Per Unit\"]]\n",
    "Item_table"
   ]
  },
  {
   "cell_type": "code",
   "execution_count": 19,
   "metadata": {},
   "outputs": [
    {
     "data": {
      "application/vnd.microsoft.datawrangler.viewer.v0+json": {
       "columns": [
        {
         "name": "index",
         "rawType": "int64",
         "type": "integer"
        },
        {
         "name": "Transaction ID",
         "rawType": "object",
         "type": "string"
        },
        {
         "name": "Item",
         "rawType": "object",
         "type": "unknown"
        },
        {
         "name": "Quantity",
         "rawType": "float64",
         "type": "float"
        },
        {
         "name": "Total Spent",
         "rawType": "float64",
         "type": "float"
        }
       ],
       "conversionMethod": "pd.DataFrame",
       "ref": "ffdcc0fe-96c6-466e-b0ec-3e43da558f15",
       "rows": [
        [
         "0",
         "TXN_6867343",
         "Item_10_PAT",
         "10.0",
         "185.0"
        ],
        [
         "1",
         "TXN_3731986",
         "Item_17_MILK",
         "9.0",
         "261.0"
        ],
        [
         "2",
         "TXN_9303719",
         "Item_12_BUT",
         "2.0",
         "43.0"
        ],
        [
         "3",
         "TXN_9458126",
         "Item_16_BEV",
         "9.0",
         "247.5"
        ],
        [
         "4",
         "TXN_4575373",
         "Item_6_FOOD",
         "7.0",
         "87.5"
        ],
        [
         "5",
         "TXN_7482416",
         null,
         "10.0",
         "200.0"
        ],
        [
         "6",
         "TXN_3652209",
         "Item_1_FOOD",
         "8.0",
         "40.0"
        ],
        [
         "7",
         "TXN_1372952",
         null,
         null,
         null
        ],
        [
         "8",
         "TXN_9728486",
         "Item_16_FUR",
         "1.0",
         "27.5"
        ],
        [
         "9",
         "TXN_2722661",
         "Item_22_BUT",
         "3.0",
         "109.5"
        ],
        [
         "10",
         "TXN_8776416",
         "Item_3_BUT",
         "9.0",
         "72.0"
        ],
        [
         "11",
         "TXN_5422631",
         null,
         "8.0",
         "52.0"
        ],
        [
         "12",
         "TXN_5874772",
         "Item_2_FOOD",
         "7.0",
         "45.5"
        ],
        [
         "13",
         "TXN_4413070",
         "Item_24_PAT",
         "6.0",
         "237.0"
        ],
        [
         "14",
         "TXN_2490363",
         "Item_16_MILK",
         "2.0",
         "55.0"
        ],
        [
         "15",
         "TXN_1809665",
         null,
         null,
         null
        ],
        [
         "16",
         "TXN_7563311",
         "Item_17_PAT",
         "8.0",
         "232.0"
        ],
        [
         "17",
         "TXN_9634894",
         null,
         "10.0",
         "275.0"
        ],
        [
         "18",
         "TXN_4396807",
         "Item_13_EHE",
         "1.0",
         "23.0"
        ],
        [
         "19",
         "TXN_4206593",
         null,
         null,
         null
        ],
        [
         "20",
         "TXN_9939063",
         "Item_7_BEV",
         "9.0",
         "126.0"
        ],
        [
         "21",
         "TXN_8685338",
         null,
         "3.0",
         "105.0"
        ],
        [
         "22",
         "TXN_6547964",
         "Item_4_EHE",
         "7.0",
         "66.5"
        ],
        [
         "23",
         "TXN_3314099",
         "Item_10_FOOD",
         "1.0",
         "18.5"
        ],
        [
         "24",
         "TXN_9980736",
         "Item_14_FUR",
         "2.0",
         "49.0"
        ],
        [
         "25",
         "TXN_3481599",
         null,
         null,
         null
        ],
        [
         "26",
         "TXN_9057609",
         "Item_20_BUT",
         "4.0",
         "134.0"
        ],
        [
         "27",
         "TXN_1599706",
         "Item_25_FUR",
         "10.0",
         "410.0"
        ],
        [
         "28",
         "TXN_1598860",
         "Item_14_FOOD",
         "10.0",
         "245.0"
        ],
        [
         "29",
         "TXN_7138501",
         "Item_22_PAT",
         "5.0",
         "182.5"
        ],
        [
         "30",
         "TXN_5444504",
         "Item_11_FOOD",
         "10.0",
         "200.0"
        ],
        [
         "31",
         "TXN_4353295",
         "Item_6_PAT",
         "8.0",
         "100.0"
        ],
        [
         "32",
         "TXN_1543244",
         null,
         "8.0",
         "196.0"
        ],
        [
         "33",
         "TXN_1494700",
         "Item_21_EHE",
         "9.0",
         "315.0"
        ],
        [
         "34",
         "TXN_1621497",
         null,
         null,
         null
        ],
        [
         "35",
         "TXN_6398436",
         "Item_25_BEV",
         "7.0",
         "287.0"
        ],
        [
         "36",
         "TXN_9065245",
         "Item_23_FOOD",
         "2.0",
         "76.0"
        ],
        [
         "37",
         "TXN_6963438",
         "Item_10_FUR",
         "5.0",
         "92.5"
        ],
        [
         "38",
         "TXN_8312797",
         "Item_11_BEV",
         "5.0",
         "100.0"
        ],
        [
         "39",
         "TXN_5836005",
         "Item_23_BUT",
         "5.0",
         "190.0"
        ],
        [
         "40",
         "TXN_4223250",
         "Item_22_BEV",
         "7.0",
         "255.5"
        ],
        [
         "41",
         "TXN_1019817",
         "Item_10_EHE",
         "5.0",
         "92.5"
        ],
        [
         "42",
         "TXN_1110407",
         "Item_24_BUT",
         "7.0",
         "276.5"
        ],
        [
         "43",
         "TXN_6276518",
         "Item_8_BEV",
         "3.0",
         "46.5"
        ],
        [
         "44",
         "TXN_4740738",
         "Item_3_FOOD",
         "1.0",
         "8.0"
        ],
        [
         "45",
         "TXN_9587232",
         "Item_12_FOOD",
         "5.0",
         "107.5"
        ],
        [
         "46",
         "TXN_6404316",
         "Item_16_CEA",
         "6.0",
         "165.0"
        ],
        [
         "47",
         "TXN_9331642",
         "Item_11_PAT",
         "4.0",
         "80.0"
        ],
        [
         "48",
         "TXN_9729422",
         "Item_16_BUT",
         "6.0",
         "165.0"
        ],
        [
         "49",
         "TXN_8425168",
         "Item_16_MILK",
         "7.0",
         "192.5"
        ]
       ],
       "shape": {
        "columns": 4,
        "rows": 12575
       }
      },
      "text/html": [
       "<div>\n",
       "<style scoped>\n",
       "    .dataframe tbody tr th:only-of-type {\n",
       "        vertical-align: middle;\n",
       "    }\n",
       "\n",
       "    .dataframe tbody tr th {\n",
       "        vertical-align: top;\n",
       "    }\n",
       "\n",
       "    .dataframe thead th {\n",
       "        text-align: right;\n",
       "    }\n",
       "</style>\n",
       "<table border=\"1\" class=\"dataframe\">\n",
       "  <thead>\n",
       "    <tr style=\"text-align: right;\">\n",
       "      <th></th>\n",
       "      <th>Transaction ID</th>\n",
       "      <th>Item</th>\n",
       "      <th>Quantity</th>\n",
       "      <th>Total Spent</th>\n",
       "    </tr>\n",
       "  </thead>\n",
       "  <tbody>\n",
       "    <tr>\n",
       "      <th>0</th>\n",
       "      <td>TXN_6867343</td>\n",
       "      <td>Item_10_PAT</td>\n",
       "      <td>10.0</td>\n",
       "      <td>185.0</td>\n",
       "    </tr>\n",
       "    <tr>\n",
       "      <th>1</th>\n",
       "      <td>TXN_3731986</td>\n",
       "      <td>Item_17_MILK</td>\n",
       "      <td>9.0</td>\n",
       "      <td>261.0</td>\n",
       "    </tr>\n",
       "    <tr>\n",
       "      <th>2</th>\n",
       "      <td>TXN_9303719</td>\n",
       "      <td>Item_12_BUT</td>\n",
       "      <td>2.0</td>\n",
       "      <td>43.0</td>\n",
       "    </tr>\n",
       "    <tr>\n",
       "      <th>3</th>\n",
       "      <td>TXN_9458126</td>\n",
       "      <td>Item_16_BEV</td>\n",
       "      <td>9.0</td>\n",
       "      <td>247.5</td>\n",
       "    </tr>\n",
       "    <tr>\n",
       "      <th>4</th>\n",
       "      <td>TXN_4575373</td>\n",
       "      <td>Item_6_FOOD</td>\n",
       "      <td>7.0</td>\n",
       "      <td>87.5</td>\n",
       "    </tr>\n",
       "    <tr>\n",
       "      <th>...</th>\n",
       "      <td>...</td>\n",
       "      <td>...</td>\n",
       "      <td>...</td>\n",
       "      <td>...</td>\n",
       "    </tr>\n",
       "    <tr>\n",
       "      <th>12570</th>\n",
       "      <td>TXN_9347481</td>\n",
       "      <td>Item_23_PAT</td>\n",
       "      <td>4.0</td>\n",
       "      <td>152.0</td>\n",
       "    </tr>\n",
       "    <tr>\n",
       "      <th>12571</th>\n",
       "      <td>TXN_4009414</td>\n",
       "      <td>Item_2_BEV</td>\n",
       "      <td>9.0</td>\n",
       "      <td>58.5</td>\n",
       "    </tr>\n",
       "    <tr>\n",
       "      <th>12572</th>\n",
       "      <td>TXN_5306010</td>\n",
       "      <td>Item_7_BUT</td>\n",
       "      <td>10.0</td>\n",
       "      <td>140.0</td>\n",
       "    </tr>\n",
       "    <tr>\n",
       "      <th>12573</th>\n",
       "      <td>TXN_5167298</td>\n",
       "      <td>Item_7_FUR</td>\n",
       "      <td>6.0</td>\n",
       "      <td>84.0</td>\n",
       "    </tr>\n",
       "    <tr>\n",
       "      <th>12574</th>\n",
       "      <td>TXN_2407494</td>\n",
       "      <td>Item_9_FOOD</td>\n",
       "      <td>3.0</td>\n",
       "      <td>51.0</td>\n",
       "    </tr>\n",
       "  </tbody>\n",
       "</table>\n",
       "<p>12575 rows × 4 columns</p>\n",
       "</div>"
      ],
      "text/plain": [
       "      Transaction ID          Item  Quantity  Total Spent\n",
       "0        TXN_6867343   Item_10_PAT      10.0        185.0\n",
       "1        TXN_3731986  Item_17_MILK       9.0        261.0\n",
       "2        TXN_9303719   Item_12_BUT       2.0         43.0\n",
       "3        TXN_9458126   Item_16_BEV       9.0        247.5\n",
       "4        TXN_4575373   Item_6_FOOD       7.0         87.5\n",
       "...              ...           ...       ...          ...\n",
       "12570    TXN_9347481   Item_23_PAT       4.0        152.0\n",
       "12571    TXN_4009414    Item_2_BEV       9.0         58.5\n",
       "12572    TXN_5306010    Item_7_BUT      10.0        140.0\n",
       "12573    TXN_5167298    Item_7_FUR       6.0         84.0\n",
       "12574    TXN_2407494   Item_9_FOOD       3.0         51.0\n",
       "\n",
       "[12575 rows x 4 columns]"
      ]
     },
     "execution_count": 19,
     "metadata": {},
     "output_type": "execute_result"
    }
   ],
   "source": [
    "Sales_table = retail_sales_data[[\"Transaction ID\", \"Item\", \"Quantity\", \"Total Spent\"]]\n",
    "Sales_table"
   ]
  },
  {
   "cell_type": "code",
   "execution_count": 20,
   "metadata": {},
   "outputs": [],
   "source": [
    "expr = retail_sales_data[[\"Category\",\"Item\",\"Price Per Unit\",\"Quantity\", \"Total Spent\"]]"
   ]
  },
  {
   "cell_type": "code",
   "execution_count": 21,
   "metadata": {},
   "outputs": [
    {
     "data": {
      "application/vnd.microsoft.datawrangler.viewer.v0+json": {
       "columns": [
        {
         "name": "index",
         "rawType": "int64",
         "type": "integer"
        },
        {
         "name": "Category",
         "rawType": "object",
         "type": "string"
        },
        {
         "name": "Item",
         "rawType": "object",
         "type": "unknown"
        },
        {
         "name": "Price Per Unit",
         "rawType": "float64",
         "type": "float"
        },
        {
         "name": "Quantity",
         "rawType": "float64",
         "type": "float"
        },
        {
         "name": "Total Spent",
         "rawType": "float64",
         "type": "float"
        }
       ],
       "conversionMethod": "pd.DataFrame",
       "ref": "3eac0188-f047-4fb9-9390-1c98b5018bff",
       "rows": [
        [
         "0",
         "Patisserie",
         "Item_10_PAT",
         "18.5",
         "10.0",
         "185.0"
        ],
        [
         "1",
         "Milk Products",
         "Item_17_MILK",
         "29.0",
         "9.0",
         "261.0"
        ],
        [
         "2",
         "Butchers",
         "Item_12_BUT",
         "21.5",
         "2.0",
         "43.0"
        ],
        [
         "3",
         "Beverages",
         "Item_16_BEV",
         "27.5",
         "9.0",
         "247.5"
        ],
        [
         "4",
         "Food",
         "Item_6_FOOD",
         "12.5",
         "7.0",
         "87.5"
        ],
        [
         "5",
         "Patisserie",
         null,
         null,
         "10.0",
         "200.0"
        ],
        [
         "6",
         "Food",
         "Item_1_FOOD",
         "5.0",
         "8.0",
         "40.0"
        ],
        [
         "7",
         "Furniture",
         null,
         "33.5",
         null,
         null
        ],
        [
         "8",
         "Furniture",
         "Item_16_FUR",
         "27.5",
         "1.0",
         "27.5"
        ],
        [
         "9",
         "Butchers",
         "Item_22_BUT",
         "36.5",
         "3.0",
         "109.5"
        ],
        [
         "10",
         "Butchers",
         "Item_3_BUT",
         "8.0",
         "9.0",
         "72.0"
        ],
        [
         "11",
         "Milk Products",
         null,
         null,
         "8.0",
         "52.0"
        ],
        [
         "12",
         "Food",
         "Item_2_FOOD",
         "6.5",
         "7.0",
         "45.5"
        ],
        [
         "13",
         "Patisserie",
         "Item_24_PAT",
         "39.5",
         "6.0",
         "237.0"
        ],
        [
         "14",
         "Milk Products",
         "Item_16_MILK",
         "27.5",
         "2.0",
         "55.0"
        ],
        [
         "15",
         "Beverages",
         null,
         "24.5",
         null,
         null
        ],
        [
         "16",
         "Patisserie",
         "Item_17_PAT",
         "29.0",
         "8.0",
         "232.0"
        ],
        [
         "17",
         "Milk Products",
         null,
         null,
         "10.0",
         "275.0"
        ],
        [
         "18",
         "Electric household essentials",
         "Item_13_EHE",
         "23.0",
         "1.0",
         "23.0"
        ],
        [
         "19",
         "Furniture",
         null,
         "35.0",
         null,
         null
        ],
        [
         "20",
         "Beverages",
         "Item_7_BEV",
         "14.0",
         "9.0",
         "126.0"
        ],
        [
         "21",
         "Milk Products",
         null,
         null,
         "3.0",
         "105.0"
        ],
        [
         "22",
         "Electric household essentials",
         "Item_4_EHE",
         "9.5",
         "7.0",
         "66.5"
        ],
        [
         "23",
         "Food",
         "Item_10_FOOD",
         "18.5",
         "1.0",
         "18.5"
        ],
        [
         "24",
         "Furniture",
         "Item_14_FUR",
         "24.5",
         "2.0",
         "49.0"
        ],
        [
         "25",
         "Furniture",
         null,
         "39.5",
         null,
         null
        ],
        [
         "26",
         "Butchers",
         "Item_20_BUT",
         "33.5",
         "4.0",
         "134.0"
        ],
        [
         "27",
         "Furniture",
         "Item_25_FUR",
         "41.0",
         "10.0",
         "410.0"
        ],
        [
         "28",
         "Food",
         "Item_14_FOOD",
         "24.5",
         "10.0",
         "245.0"
        ],
        [
         "29",
         "Patisserie",
         "Item_22_PAT",
         "36.5",
         "5.0",
         "182.5"
        ],
        [
         "30",
         "Food",
         "Item_11_FOOD",
         "20.0",
         "10.0",
         "200.0"
        ],
        [
         "31",
         "Patisserie",
         "Item_6_PAT",
         "12.5",
         "8.0",
         "100.0"
        ],
        [
         "32",
         "Food",
         null,
         null,
         "8.0",
         "196.0"
        ],
        [
         "33",
         "Electric household essentials",
         "Item_21_EHE",
         "35.0",
         "9.0",
         "315.0"
        ],
        [
         "34",
         "Patisserie",
         null,
         "23.0",
         null,
         null
        ],
        [
         "35",
         "Beverages",
         "Item_25_BEV",
         "41.0",
         "7.0",
         "287.0"
        ],
        [
         "36",
         "Food",
         "Item_23_FOOD",
         "38.0",
         "2.0",
         "76.0"
        ],
        [
         "37",
         "Furniture",
         "Item_10_FUR",
         "18.5",
         "5.0",
         "92.5"
        ],
        [
         "38",
         "Beverages",
         "Item_11_BEV",
         "20.0",
         "5.0",
         "100.0"
        ],
        [
         "39",
         "Butchers",
         "Item_23_BUT",
         "38.0",
         "5.0",
         "190.0"
        ],
        [
         "40",
         "Beverages",
         "Item_22_BEV",
         "36.5",
         "7.0",
         "255.5"
        ],
        [
         "41",
         "Electric household essentials",
         "Item_10_EHE",
         "18.5",
         "5.0",
         "92.5"
        ],
        [
         "42",
         "Butchers",
         "Item_24_BUT",
         "39.5",
         "7.0",
         "276.5"
        ],
        [
         "43",
         "Beverages",
         "Item_8_BEV",
         "15.5",
         "3.0",
         "46.5"
        ],
        [
         "44",
         "Food",
         "Item_3_FOOD",
         "8.0",
         "1.0",
         "8.0"
        ],
        [
         "45",
         "Food",
         "Item_12_FOOD",
         "21.5",
         "5.0",
         "107.5"
        ],
        [
         "46",
         "Computers and electric accessories",
         "Item_16_CEA",
         "27.5",
         "6.0",
         "165.0"
        ],
        [
         "47",
         "Patisserie",
         "Item_11_PAT",
         "20.0",
         "4.0",
         "80.0"
        ],
        [
         "48",
         "Butchers",
         "Item_16_BUT",
         "27.5",
         "6.0",
         "165.0"
        ],
        [
         "49",
         "Milk Products",
         "Item_16_MILK",
         "27.5",
         "7.0",
         "192.5"
        ]
       ],
       "shape": {
        "columns": 5,
        "rows": 12575
       }
      },
      "text/html": [
       "<div>\n",
       "<style scoped>\n",
       "    .dataframe tbody tr th:only-of-type {\n",
       "        vertical-align: middle;\n",
       "    }\n",
       "\n",
       "    .dataframe tbody tr th {\n",
       "        vertical-align: top;\n",
       "    }\n",
       "\n",
       "    .dataframe thead th {\n",
       "        text-align: right;\n",
       "    }\n",
       "</style>\n",
       "<table border=\"1\" class=\"dataframe\">\n",
       "  <thead>\n",
       "    <tr style=\"text-align: right;\">\n",
       "      <th></th>\n",
       "      <th>Category</th>\n",
       "      <th>Item</th>\n",
       "      <th>Price Per Unit</th>\n",
       "      <th>Quantity</th>\n",
       "      <th>Total Spent</th>\n",
       "    </tr>\n",
       "  </thead>\n",
       "  <tbody>\n",
       "    <tr>\n",
       "      <th>0</th>\n",
       "      <td>Patisserie</td>\n",
       "      <td>Item_10_PAT</td>\n",
       "      <td>18.5</td>\n",
       "      <td>10.0</td>\n",
       "      <td>185.0</td>\n",
       "    </tr>\n",
       "    <tr>\n",
       "      <th>1</th>\n",
       "      <td>Milk Products</td>\n",
       "      <td>Item_17_MILK</td>\n",
       "      <td>29.0</td>\n",
       "      <td>9.0</td>\n",
       "      <td>261.0</td>\n",
       "    </tr>\n",
       "    <tr>\n",
       "      <th>2</th>\n",
       "      <td>Butchers</td>\n",
       "      <td>Item_12_BUT</td>\n",
       "      <td>21.5</td>\n",
       "      <td>2.0</td>\n",
       "      <td>43.0</td>\n",
       "    </tr>\n",
       "    <tr>\n",
       "      <th>3</th>\n",
       "      <td>Beverages</td>\n",
       "      <td>Item_16_BEV</td>\n",
       "      <td>27.5</td>\n",
       "      <td>9.0</td>\n",
       "      <td>247.5</td>\n",
       "    </tr>\n",
       "    <tr>\n",
       "      <th>4</th>\n",
       "      <td>Food</td>\n",
       "      <td>Item_6_FOOD</td>\n",
       "      <td>12.5</td>\n",
       "      <td>7.0</td>\n",
       "      <td>87.5</td>\n",
       "    </tr>\n",
       "    <tr>\n",
       "      <th>...</th>\n",
       "      <td>...</td>\n",
       "      <td>...</td>\n",
       "      <td>...</td>\n",
       "      <td>...</td>\n",
       "      <td>...</td>\n",
       "    </tr>\n",
       "    <tr>\n",
       "      <th>12570</th>\n",
       "      <td>Patisserie</td>\n",
       "      <td>Item_23_PAT</td>\n",
       "      <td>38.0</td>\n",
       "      <td>4.0</td>\n",
       "      <td>152.0</td>\n",
       "    </tr>\n",
       "    <tr>\n",
       "      <th>12571</th>\n",
       "      <td>Beverages</td>\n",
       "      <td>Item_2_BEV</td>\n",
       "      <td>6.5</td>\n",
       "      <td>9.0</td>\n",
       "      <td>58.5</td>\n",
       "    </tr>\n",
       "    <tr>\n",
       "      <th>12572</th>\n",
       "      <td>Butchers</td>\n",
       "      <td>Item_7_BUT</td>\n",
       "      <td>14.0</td>\n",
       "      <td>10.0</td>\n",
       "      <td>140.0</td>\n",
       "    </tr>\n",
       "    <tr>\n",
       "      <th>12573</th>\n",
       "      <td>Furniture</td>\n",
       "      <td>Item_7_FUR</td>\n",
       "      <td>14.0</td>\n",
       "      <td>6.0</td>\n",
       "      <td>84.0</td>\n",
       "    </tr>\n",
       "    <tr>\n",
       "      <th>12574</th>\n",
       "      <td>Food</td>\n",
       "      <td>Item_9_FOOD</td>\n",
       "      <td>17.0</td>\n",
       "      <td>3.0</td>\n",
       "      <td>51.0</td>\n",
       "    </tr>\n",
       "  </tbody>\n",
       "</table>\n",
       "<p>12575 rows × 5 columns</p>\n",
       "</div>"
      ],
      "text/plain": [
       "            Category          Item  Price Per Unit  Quantity  Total Spent\n",
       "0         Patisserie   Item_10_PAT            18.5      10.0        185.0\n",
       "1      Milk Products  Item_17_MILK            29.0       9.0        261.0\n",
       "2           Butchers   Item_12_BUT            21.5       2.0         43.0\n",
       "3          Beverages   Item_16_BEV            27.5       9.0        247.5\n",
       "4               Food   Item_6_FOOD            12.5       7.0         87.5\n",
       "...              ...           ...             ...       ...          ...\n",
       "12570     Patisserie   Item_23_PAT            38.0       4.0        152.0\n",
       "12571      Beverages    Item_2_BEV             6.5       9.0         58.5\n",
       "12572       Butchers    Item_7_BUT            14.0      10.0        140.0\n",
       "12573      Furniture    Item_7_FUR            14.0       6.0         84.0\n",
       "12574           Food   Item_9_FOOD            17.0       3.0         51.0\n",
       "\n",
       "[12575 rows x 5 columns]"
      ]
     },
     "execution_count": 21,
     "metadata": {},
     "output_type": "execute_result"
    }
   ],
   "source": [
    "expr"
   ]
  },
  {
   "cell_type": "code",
   "execution_count": 22,
   "metadata": {},
   "outputs": [],
   "source": [
    "df = retail_sales_data.copy()"
   ]
  },
  {
   "cell_type": "code",
   "execution_count": 23,
   "metadata": {},
   "outputs": [],
   "source": [
    "# Fill missing Price Per Unit values using the formula\n",
    "retail_sales_data[\"Price Per Unit\"] = retail_sales_data.apply(\n",
    "    lambda row: row[\"Total Spent\"] / row[\"Quantity\"] if row[\"Price Per Unit\"] == 0 and row[\"Quantity\"] != 0 else row[\"Price Per Unit\"],\n",
    "    axis=1\n",
    ")"
   ]
  },
  {
   "cell_type": "code",
   "execution_count": 24,
   "metadata": {},
   "outputs": [
    {
     "name": "stdout",
     "output_type": "stream",
     "text": [
      "Empty DataFrame\n",
      "Columns: [Transaction ID, Customer ID, Category, Item, Price Per Unit, Quantity, Total Spent, Payment Method, Location, Transaction Date, Discount Applied]\n",
      "Index: []\n"
     ]
    }
   ],
   "source": [
    "missing_prices = retail_sales_data[retail_sales_data[\"Price Per Unit\"] == 0]\n",
    "print(missing_prices)\n"
   ]
  },
  {
   "cell_type": "code",
   "execution_count": 25,
   "metadata": {},
   "outputs": [],
   "source": [
    "retail_sales_data[\"Quantity\"] = retail_sales_data.apply(\n",
    "    lambda row: row[\"Total Spent\"] / row[\"Price Per Unit\"] if row[\"Quantity\"] == 0 and row[\"Price Per Unit\"] != 0 else row[\"Quantity\"], \n",
    "    axis=1\n",
    ")"
   ]
  },
  {
   "cell_type": "code",
   "execution_count": 26,
   "metadata": {},
   "outputs": [
    {
     "name": "stdout",
     "output_type": "stream",
     "text": [
      "Empty DataFrame\n",
      "Columns: [Transaction ID, Customer ID, Category, Item, Price Per Unit, Quantity, Total Spent, Payment Method, Location, Transaction Date, Discount Applied]\n",
      "Index: []\n"
     ]
    }
   ],
   "source": [
    "missing_quantity = retail_sales_data[retail_sales_data[\"Quantity\"]== 0]\n",
    "print(missing_quantity)"
   ]
  },
  {
   "cell_type": "code",
   "execution_count": 27,
   "metadata": {},
   "outputs": [],
   "source": [
    "retail_sales_data[\"Total Spent\"] = retail_sales_data.apply(\n",
    "    lambda row: row[\"Quantity\"] * row[\"Price Per Unit\"] if row[\"Total Spent\"] == 0 and row[\"Quantity\"] != 0 else row[\"Total Spent\"], \n",
    "    axis=1\n",
    ")"
   ]
  },
  {
   "cell_type": "code",
   "execution_count": 28,
   "metadata": {},
   "outputs": [
    {
     "name": "stdout",
     "output_type": "stream",
     "text": [
      "Empty DataFrame\n",
      "Columns: [Transaction ID, Customer ID, Category, Item, Price Per Unit, Quantity, Total Spent, Payment Method, Location, Transaction Date, Discount Applied]\n",
      "Index: []\n"
     ]
    }
   ],
   "source": [
    "missing_Total = retail_sales_data[retail_sales_data[\"Total Spent\"]==0]\n",
    "print(missing_Total)"
   ]
  },
  {
   "cell_type": "code",
   "execution_count": 29,
   "metadata": {},
   "outputs": [
    {
     "data": {
      "text/plain": [
       "Transaction ID         0\n",
       "Customer ID            0\n",
       "Category               0\n",
       "Item                1213\n",
       "Price Per Unit       609\n",
       "Quantity             604\n",
       "Total Spent          604\n",
       "Payment Method         0\n",
       "Location               0\n",
       "Transaction Date       0\n",
       "Discount Applied    4199\n",
       "dtype: int64"
      ]
     },
     "execution_count": 29,
     "metadata": {},
     "output_type": "execute_result"
    }
   ],
   "source": [
    "retail_sales_data.isnull().sum()"
   ]
  },
  {
   "cell_type": "code",
   "execution_count": 30,
   "metadata": {},
   "outputs": [],
   "source": [
    "missing_prices = retail_sales_data[retail_sales_data[\"Price Per Unit\"] == 0]"
   ]
  },
  {
   "cell_type": "code",
   "execution_count": 31,
   "metadata": {},
   "outputs": [
    {
     "data": {
      "application/vnd.microsoft.datawrangler.viewer.v0+json": {
       "columns": [
        {
         "name": "index",
         "rawType": "int64",
         "type": "integer"
        },
        {
         "name": "Transaction ID",
         "rawType": "object",
         "type": "string"
        },
        {
         "name": "Customer ID",
         "rawType": "object",
         "type": "string"
        },
        {
         "name": "Category",
         "rawType": "object",
         "type": "string"
        },
        {
         "name": "Item",
         "rawType": "object",
         "type": "unknown"
        },
        {
         "name": "Price Per Unit",
         "rawType": "float64",
         "type": "float"
        },
        {
         "name": "Quantity",
         "rawType": "float64",
         "type": "float"
        },
        {
         "name": "Total Spent",
         "rawType": "float64",
         "type": "float"
        },
        {
         "name": "Payment Method",
         "rawType": "object",
         "type": "string"
        },
        {
         "name": "Location",
         "rawType": "object",
         "type": "string"
        },
        {
         "name": "Transaction Date",
         "rawType": "object",
         "type": "string"
        },
        {
         "name": "Discount Applied",
         "rawType": "object",
         "type": "unknown"
        }
       ],
       "conversionMethod": "pd.DataFrame",
       "ref": "1f63ec7e-4c2c-4340-adbc-e6168cac007b",
       "rows": [
        [
         "0",
         "TXN_6867343",
         "CUST_09",
         "Patisserie",
         "Item_10_PAT",
         "18.5",
         "10.0",
         "185.0",
         "Digital Wallet",
         "Online",
         "2024-04-08",
         "True"
        ],
        [
         "1",
         "TXN_3731986",
         "CUST_22",
         "Milk Products",
         "Item_17_MILK",
         "29.0",
         "9.0",
         "261.0",
         "Digital Wallet",
         "Online",
         "2023-07-23",
         "True"
        ],
        [
         "2",
         "TXN_9303719",
         "CUST_02",
         "Butchers",
         "Item_12_BUT",
         "21.5",
         "2.0",
         "43.0",
         "Credit Card",
         "Online",
         "2022-10-05",
         "False"
        ],
        [
         "3",
         "TXN_9458126",
         "CUST_06",
         "Beverages",
         "Item_16_BEV",
         "27.5",
         "9.0",
         "247.5",
         "Credit Card",
         "Online",
         "2022-05-07",
         null
        ],
        [
         "4",
         "TXN_4575373",
         "CUST_05",
         "Food",
         "Item_6_FOOD",
         "12.5",
         "7.0",
         "87.5",
         "Digital Wallet",
         "Online",
         "2022-10-02",
         "False"
        ],
        [
         "5",
         "TXN_7482416",
         "CUST_09",
         "Patisserie",
         null,
         null,
         "10.0",
         "200.0",
         "Credit Card",
         "Online",
         "2023-11-30",
         null
        ],
        [
         "6",
         "TXN_3652209",
         "CUST_07",
         "Food",
         "Item_1_FOOD",
         "5.0",
         "8.0",
         "40.0",
         "Credit Card",
         "In-store",
         "2023-06-10",
         "True"
        ],
        [
         "7",
         "TXN_1372952",
         "CUST_21",
         "Furniture",
         null,
         "33.5",
         null,
         null,
         "Digital Wallet",
         "In-store",
         "2024-04-02",
         "True"
        ],
        [
         "8",
         "TXN_9728486",
         "CUST_23",
         "Furniture",
         "Item_16_FUR",
         "27.5",
         "1.0",
         "27.5",
         "Credit Card",
         "In-store",
         "2023-04-26",
         "False"
        ],
        [
         "9",
         "TXN_2722661",
         "CUST_25",
         "Butchers",
         "Item_22_BUT",
         "36.5",
         "3.0",
         "109.5",
         "Cash",
         "Online",
         "2024-03-14",
         "False"
        ],
        [
         "10",
         "TXN_8776416",
         "CUST_22",
         "Butchers",
         "Item_3_BUT",
         "8.0",
         "9.0",
         "72.0",
         "Cash",
         "In-store",
         "2024-12-14",
         "True"
        ],
        [
         "11",
         "TXN_5422631",
         "CUST_09",
         "Milk Products",
         null,
         null,
         "8.0",
         "52.0",
         "Digital Wallet",
         "In-store",
         "2025-01-12",
         "True"
        ],
        [
         "12",
         "TXN_5874772",
         "CUST_23",
         "Food",
         "Item_2_FOOD",
         "6.5",
         "7.0",
         "45.5",
         "Cash",
         "Online",
         "2023-09-09",
         "True"
        ],
        [
         "13",
         "TXN_4413070",
         "CUST_14",
         "Patisserie",
         "Item_24_PAT",
         "39.5",
         "6.0",
         "237.0",
         "Digital Wallet",
         "In-store",
         "2022-05-20",
         "False"
        ],
        [
         "14",
         "TXN_2490363",
         "CUST_09",
         "Milk Products",
         "Item_16_MILK",
         "27.5",
         "2.0",
         "55.0",
         "Digital Wallet",
         "Online",
         "2022-05-22",
         null
        ],
        [
         "15",
         "TXN_1809665",
         "CUST_14",
         "Beverages",
         null,
         "24.5",
         null,
         null,
         "Credit Card",
         "In-store",
         "2022-05-11",
         null
        ],
        [
         "16",
         "TXN_7563311",
         "CUST_23",
         "Patisserie",
         "Item_17_PAT",
         "29.0",
         "8.0",
         "232.0",
         "Cash",
         "Online",
         "2024-11-16",
         "True"
        ],
        [
         "17",
         "TXN_9634894",
         "CUST_15",
         "Milk Products",
         null,
         null,
         "10.0",
         "275.0",
         "Digital Wallet",
         "Online",
         "2022-04-17",
         null
        ],
        [
         "18",
         "TXN_4396807",
         "CUST_17",
         "Electric household essentials",
         "Item_13_EHE",
         "23.0",
         "1.0",
         "23.0",
         "Digital Wallet",
         "In-store",
         "2022-02-07",
         "False"
        ],
        [
         "19",
         "TXN_4206593",
         "CUST_01",
         "Furniture",
         null,
         "35.0",
         null,
         null,
         "Digital Wallet",
         "Online",
         "2025-01-13",
         "False"
        ],
        [
         "20",
         "TXN_9939063",
         "CUST_14",
         "Beverages",
         "Item_7_BEV",
         "14.0",
         "9.0",
         "126.0",
         "Digital Wallet",
         "In-store",
         "2024-01-14",
         null
        ],
        [
         "21",
         "TXN_8685338",
         "CUST_15",
         "Milk Products",
         null,
         null,
         "3.0",
         "105.0",
         "Credit Card",
         "In-store",
         "2023-10-29",
         null
        ],
        [
         "22",
         "TXN_6547964",
         "CUST_10",
         "Electric household essentials",
         "Item_4_EHE",
         "9.5",
         "7.0",
         "66.5",
         "Cash",
         "In-store",
         "2022-08-15",
         null
        ],
        [
         "23",
         "TXN_3314099",
         "CUST_04",
         "Food",
         "Item_10_FOOD",
         "18.5",
         "1.0",
         "18.5",
         "Cash",
         "Online",
         "2023-09-30",
         "False"
        ],
        [
         "24",
         "TXN_9980736",
         "CUST_13",
         "Furniture",
         "Item_14_FUR",
         "24.5",
         "2.0",
         "49.0",
         "Cash",
         "Online",
         "2023-08-29",
         "False"
        ],
        [
         "25",
         "TXN_3481599",
         "CUST_05",
         "Furniture",
         null,
         "39.5",
         null,
         null,
         "Cash",
         "Online",
         "2022-09-08",
         "False"
        ],
        [
         "26",
         "TXN_9057609",
         "CUST_18",
         "Butchers",
         "Item_20_BUT",
         "33.5",
         "4.0",
         "134.0",
         "Credit Card",
         "In-store",
         "2022-03-16",
         "True"
        ],
        [
         "27",
         "TXN_1599706",
         "CUST_14",
         "Furniture",
         "Item_25_FUR",
         "41.0",
         "10.0",
         "410.0",
         "Credit Card",
         "In-store",
         "2024-03-24",
         "True"
        ],
        [
         "28",
         "TXN_1598860",
         "CUST_08",
         "Food",
         "Item_14_FOOD",
         "24.5",
         "10.0",
         "245.0",
         "Cash",
         "In-store",
         "2022-10-23",
         "True"
        ],
        [
         "29",
         "TXN_7138501",
         "CUST_18",
         "Patisserie",
         "Item_22_PAT",
         "36.5",
         "5.0",
         "182.5",
         "Credit Card",
         "In-store",
         "2022-03-10",
         "False"
        ],
        [
         "30",
         "TXN_5444504",
         "CUST_05",
         "Food",
         "Item_11_FOOD",
         "20.0",
         "10.0",
         "200.0",
         "Digital Wallet",
         "Online",
         "2022-04-26",
         "False"
        ],
        [
         "31",
         "TXN_4353295",
         "CUST_22",
         "Patisserie",
         "Item_6_PAT",
         "12.5",
         "8.0",
         "100.0",
         "Credit Card",
         "Online",
         "2022-04-05",
         "True"
        ],
        [
         "32",
         "TXN_1543244",
         "CUST_20",
         "Food",
         null,
         null,
         "8.0",
         "196.0",
         "Credit Card",
         "Online",
         "2024-10-25",
         "True"
        ],
        [
         "33",
         "TXN_1494700",
         "CUST_12",
         "Electric household essentials",
         "Item_21_EHE",
         "35.0",
         "9.0",
         "315.0",
         "Credit Card",
         "In-store",
         "2024-03-07",
         null
        ],
        [
         "34",
         "TXN_1621497",
         "CUST_06",
         "Patisserie",
         null,
         "23.0",
         null,
         null,
         "Cash",
         "In-store",
         "2023-02-18",
         null
        ],
        [
         "35",
         "TXN_6398436",
         "CUST_15",
         "Beverages",
         "Item_25_BEV",
         "41.0",
         "7.0",
         "287.0",
         "Credit Card",
         "In-store",
         "2024-06-03",
         "True"
        ],
        [
         "36",
         "TXN_9065245",
         "CUST_02",
         "Food",
         "Item_23_FOOD",
         "38.0",
         "2.0",
         "76.0",
         "Digital Wallet",
         "In-store",
         "2024-03-10",
         "False"
        ],
        [
         "37",
         "TXN_6963438",
         "CUST_11",
         "Furniture",
         "Item_10_FUR",
         "18.5",
         "5.0",
         "92.5",
         "Credit Card",
         "Online",
         "2024-04-23",
         "True"
        ],
        [
         "38",
         "TXN_8312797",
         "CUST_14",
         "Beverages",
         "Item_11_BEV",
         "20.0",
         "5.0",
         "100.0",
         "Digital Wallet",
         "Online",
         "2022-06-03",
         null
        ],
        [
         "39",
         "TXN_5836005",
         "CUST_19",
         "Butchers",
         "Item_23_BUT",
         "38.0",
         "5.0",
         "190.0",
         "Credit Card",
         "In-store",
         "2024-10-19",
         "False"
        ],
        [
         "40",
         "TXN_4223250",
         "CUST_16",
         "Beverages",
         "Item_22_BEV",
         "36.5",
         "7.0",
         "255.5",
         "Cash",
         "Online",
         "2023-05-31",
         "True"
        ],
        [
         "41",
         "TXN_1019817",
         "CUST_16",
         "Electric household essentials",
         "Item_10_EHE",
         "18.5",
         "5.0",
         "92.5",
         "Cash",
         "Online",
         "2022-08-01",
         null
        ],
        [
         "42",
         "TXN_1110407",
         "CUST_25",
         "Butchers",
         "Item_24_BUT",
         "39.5",
         "7.0",
         "276.5",
         "Digital Wallet",
         "In-store",
         "2022-10-21",
         null
        ],
        [
         "43",
         "TXN_6276518",
         "CUST_24",
         "Beverages",
         "Item_8_BEV",
         "15.5",
         "3.0",
         "46.5",
         "Cash",
         "In-store",
         "2024-04-08",
         null
        ],
        [
         "44",
         "TXN_4740738",
         "CUST_25",
         "Food",
         "Item_3_FOOD",
         "8.0",
         "1.0",
         "8.0",
         "Digital Wallet",
         "In-store",
         "2022-04-19",
         null
        ],
        [
         "45",
         "TXN_9587232",
         "CUST_20",
         "Food",
         "Item_12_FOOD",
         "21.5",
         "5.0",
         "107.5",
         "Digital Wallet",
         "Online",
         "2023-02-28",
         "True"
        ],
        [
         "46",
         "TXN_6404316",
         "CUST_04",
         "Computers and electric accessories",
         "Item_16_CEA",
         "27.5",
         "6.0",
         "165.0",
         "Credit Card",
         "Online",
         "2022-04-06",
         "False"
        ],
        [
         "47",
         "TXN_9331642",
         "CUST_12",
         "Patisserie",
         "Item_11_PAT",
         "20.0",
         "4.0",
         "80.0",
         "Credit Card",
         "Online",
         "2022-07-06",
         "True"
        ],
        [
         "48",
         "TXN_9729422",
         "CUST_13",
         "Butchers",
         "Item_16_BUT",
         "27.5",
         "6.0",
         "165.0",
         "Credit Card",
         "Online",
         "2024-12-31",
         "True"
        ],
        [
         "49",
         "TXN_8425168",
         "CUST_25",
         "Milk Products",
         "Item_16_MILK",
         "27.5",
         "7.0",
         "192.5",
         "Cash",
         "In-store",
         "2022-03-12",
         null
        ]
       ],
       "shape": {
        "columns": 11,
        "rows": 12575
       }
      },
      "text/html": [
       "<div>\n",
       "<style scoped>\n",
       "    .dataframe tbody tr th:only-of-type {\n",
       "        vertical-align: middle;\n",
       "    }\n",
       "\n",
       "    .dataframe tbody tr th {\n",
       "        vertical-align: top;\n",
       "    }\n",
       "\n",
       "    .dataframe thead th {\n",
       "        text-align: right;\n",
       "    }\n",
       "</style>\n",
       "<table border=\"1\" class=\"dataframe\">\n",
       "  <thead>\n",
       "    <tr style=\"text-align: right;\">\n",
       "      <th></th>\n",
       "      <th>Transaction ID</th>\n",
       "      <th>Customer ID</th>\n",
       "      <th>Category</th>\n",
       "      <th>Item</th>\n",
       "      <th>Price Per Unit</th>\n",
       "      <th>Quantity</th>\n",
       "      <th>Total Spent</th>\n",
       "      <th>Payment Method</th>\n",
       "      <th>Location</th>\n",
       "      <th>Transaction Date</th>\n",
       "      <th>Discount Applied</th>\n",
       "    </tr>\n",
       "  </thead>\n",
       "  <tbody>\n",
       "    <tr>\n",
       "      <th>0</th>\n",
       "      <td>TXN_6867343</td>\n",
       "      <td>CUST_09</td>\n",
       "      <td>Patisserie</td>\n",
       "      <td>Item_10_PAT</td>\n",
       "      <td>18.5</td>\n",
       "      <td>10.0</td>\n",
       "      <td>185.0</td>\n",
       "      <td>Digital Wallet</td>\n",
       "      <td>Online</td>\n",
       "      <td>2024-04-08</td>\n",
       "      <td>True</td>\n",
       "    </tr>\n",
       "    <tr>\n",
       "      <th>1</th>\n",
       "      <td>TXN_3731986</td>\n",
       "      <td>CUST_22</td>\n",
       "      <td>Milk Products</td>\n",
       "      <td>Item_17_MILK</td>\n",
       "      <td>29.0</td>\n",
       "      <td>9.0</td>\n",
       "      <td>261.0</td>\n",
       "      <td>Digital Wallet</td>\n",
       "      <td>Online</td>\n",
       "      <td>2023-07-23</td>\n",
       "      <td>True</td>\n",
       "    </tr>\n",
       "    <tr>\n",
       "      <th>2</th>\n",
       "      <td>TXN_9303719</td>\n",
       "      <td>CUST_02</td>\n",
       "      <td>Butchers</td>\n",
       "      <td>Item_12_BUT</td>\n",
       "      <td>21.5</td>\n",
       "      <td>2.0</td>\n",
       "      <td>43.0</td>\n",
       "      <td>Credit Card</td>\n",
       "      <td>Online</td>\n",
       "      <td>2022-10-05</td>\n",
       "      <td>False</td>\n",
       "    </tr>\n",
       "    <tr>\n",
       "      <th>3</th>\n",
       "      <td>TXN_9458126</td>\n",
       "      <td>CUST_06</td>\n",
       "      <td>Beverages</td>\n",
       "      <td>Item_16_BEV</td>\n",
       "      <td>27.5</td>\n",
       "      <td>9.0</td>\n",
       "      <td>247.5</td>\n",
       "      <td>Credit Card</td>\n",
       "      <td>Online</td>\n",
       "      <td>2022-05-07</td>\n",
       "      <td>NaN</td>\n",
       "    </tr>\n",
       "    <tr>\n",
       "      <th>4</th>\n",
       "      <td>TXN_4575373</td>\n",
       "      <td>CUST_05</td>\n",
       "      <td>Food</td>\n",
       "      <td>Item_6_FOOD</td>\n",
       "      <td>12.5</td>\n",
       "      <td>7.0</td>\n",
       "      <td>87.5</td>\n",
       "      <td>Digital Wallet</td>\n",
       "      <td>Online</td>\n",
       "      <td>2022-10-02</td>\n",
       "      <td>False</td>\n",
       "    </tr>\n",
       "    <tr>\n",
       "      <th>...</th>\n",
       "      <td>...</td>\n",
       "      <td>...</td>\n",
       "      <td>...</td>\n",
       "      <td>...</td>\n",
       "      <td>...</td>\n",
       "      <td>...</td>\n",
       "      <td>...</td>\n",
       "      <td>...</td>\n",
       "      <td>...</td>\n",
       "      <td>...</td>\n",
       "      <td>...</td>\n",
       "    </tr>\n",
       "    <tr>\n",
       "      <th>12570</th>\n",
       "      <td>TXN_9347481</td>\n",
       "      <td>CUST_18</td>\n",
       "      <td>Patisserie</td>\n",
       "      <td>Item_23_PAT</td>\n",
       "      <td>38.0</td>\n",
       "      <td>4.0</td>\n",
       "      <td>152.0</td>\n",
       "      <td>Credit Card</td>\n",
       "      <td>In-store</td>\n",
       "      <td>2023-09-03</td>\n",
       "      <td>NaN</td>\n",
       "    </tr>\n",
       "    <tr>\n",
       "      <th>12571</th>\n",
       "      <td>TXN_4009414</td>\n",
       "      <td>CUST_03</td>\n",
       "      <td>Beverages</td>\n",
       "      <td>Item_2_BEV</td>\n",
       "      <td>6.5</td>\n",
       "      <td>9.0</td>\n",
       "      <td>58.5</td>\n",
       "      <td>Cash</td>\n",
       "      <td>Online</td>\n",
       "      <td>2022-08-12</td>\n",
       "      <td>False</td>\n",
       "    </tr>\n",
       "    <tr>\n",
       "      <th>12572</th>\n",
       "      <td>TXN_5306010</td>\n",
       "      <td>CUST_11</td>\n",
       "      <td>Butchers</td>\n",
       "      <td>Item_7_BUT</td>\n",
       "      <td>14.0</td>\n",
       "      <td>10.0</td>\n",
       "      <td>140.0</td>\n",
       "      <td>Cash</td>\n",
       "      <td>Online</td>\n",
       "      <td>2024-08-24</td>\n",
       "      <td>NaN</td>\n",
       "    </tr>\n",
       "    <tr>\n",
       "      <th>12573</th>\n",
       "      <td>TXN_5167298</td>\n",
       "      <td>CUST_04</td>\n",
       "      <td>Furniture</td>\n",
       "      <td>Item_7_FUR</td>\n",
       "      <td>14.0</td>\n",
       "      <td>6.0</td>\n",
       "      <td>84.0</td>\n",
       "      <td>Cash</td>\n",
       "      <td>Online</td>\n",
       "      <td>2023-12-30</td>\n",
       "      <td>True</td>\n",
       "    </tr>\n",
       "    <tr>\n",
       "      <th>12574</th>\n",
       "      <td>TXN_2407494</td>\n",
       "      <td>CUST_23</td>\n",
       "      <td>Food</td>\n",
       "      <td>Item_9_FOOD</td>\n",
       "      <td>17.0</td>\n",
       "      <td>3.0</td>\n",
       "      <td>51.0</td>\n",
       "      <td>Cash</td>\n",
       "      <td>Online</td>\n",
       "      <td>2022-08-06</td>\n",
       "      <td>NaN</td>\n",
       "    </tr>\n",
       "  </tbody>\n",
       "</table>\n",
       "<p>12575 rows × 11 columns</p>\n",
       "</div>"
      ],
      "text/plain": [
       "      Transaction ID Customer ID       Category          Item  Price Per Unit  \\\n",
       "0        TXN_6867343     CUST_09     Patisserie   Item_10_PAT            18.5   \n",
       "1        TXN_3731986     CUST_22  Milk Products  Item_17_MILK            29.0   \n",
       "2        TXN_9303719     CUST_02       Butchers   Item_12_BUT            21.5   \n",
       "3        TXN_9458126     CUST_06      Beverages   Item_16_BEV            27.5   \n",
       "4        TXN_4575373     CUST_05           Food   Item_6_FOOD            12.5   \n",
       "...              ...         ...            ...           ...             ...   \n",
       "12570    TXN_9347481     CUST_18     Patisserie   Item_23_PAT            38.0   \n",
       "12571    TXN_4009414     CUST_03      Beverages    Item_2_BEV             6.5   \n",
       "12572    TXN_5306010     CUST_11       Butchers    Item_7_BUT            14.0   \n",
       "12573    TXN_5167298     CUST_04      Furniture    Item_7_FUR            14.0   \n",
       "12574    TXN_2407494     CUST_23           Food   Item_9_FOOD            17.0   \n",
       "\n",
       "       Quantity  Total Spent  Payment Method  Location Transaction Date  \\\n",
       "0          10.0        185.0  Digital Wallet    Online       2024-04-08   \n",
       "1           9.0        261.0  Digital Wallet    Online       2023-07-23   \n",
       "2           2.0         43.0     Credit Card    Online       2022-10-05   \n",
       "3           9.0        247.5     Credit Card    Online       2022-05-07   \n",
       "4           7.0         87.5  Digital Wallet    Online       2022-10-02   \n",
       "...         ...          ...             ...       ...              ...   \n",
       "12570       4.0        152.0     Credit Card  In-store       2023-09-03   \n",
       "12571       9.0         58.5            Cash    Online       2022-08-12   \n",
       "12572      10.0        140.0            Cash    Online       2024-08-24   \n",
       "12573       6.0         84.0            Cash    Online       2023-12-30   \n",
       "12574       3.0         51.0            Cash    Online       2022-08-06   \n",
       "\n",
       "      Discount Applied  \n",
       "0                 True  \n",
       "1                 True  \n",
       "2                False  \n",
       "3                  NaN  \n",
       "4                False  \n",
       "...                ...  \n",
       "12570              NaN  \n",
       "12571            False  \n",
       "12572              NaN  \n",
       "12573             True  \n",
       "12574              NaN  \n",
       "\n",
       "[12575 rows x 11 columns]"
      ]
     },
     "execution_count": 31,
     "metadata": {},
     "output_type": "execute_result"
    }
   ],
   "source": [
    "retail_sales_data"
   ]
  },
  {
   "cell_type": "markdown",
   "metadata": {},
   "source": [
    "Fillers for the null values in the price, quantity and total spent"
   ]
  },
  {
   "cell_type": "code",
   "execution_count": 32,
   "metadata": {},
   "outputs": [
    {
     "name": "stdout",
     "output_type": "stream",
     "text": [
      "Transaction ID         0\n",
      "Customer ID            0\n",
      "Category               0\n",
      "Item                1213\n",
      "Price Per Unit         0\n",
      "Quantity               0\n",
      "Total Spent            0\n",
      "Payment Method         0\n",
      "Location               0\n",
      "Transaction Date       0\n",
      "Discount Applied    4199\n",
      "dtype: int64\n"
     ]
    }
   ],
   "source": [
    "#Price Per Unit\n",
    "df['Price Per Unit'] = df.apply(\n",
    "    lambda row: row['Total Spent'] / row['Quantity'] if pd.isnull(row['Price Per Unit']) and row['Quantity'] > 0 else row['Price Per Unit'], \n",
    "    axis=1\n",
    ")\n",
    "\n",
    "# Quantity\n",
    "df['Quantity'] = df.apply(\n",
    "    lambda row: row['Total Spent'] / row['Price Per Unit'] if pd.isnull(row['Quantity']) and row['Price Per Unit'] > 0 else row['Quantity'], \n",
    "    axis=1\n",
    ")\n",
    "\n",
    "# Total Spent\n",
    "df['Total Spent'] = df.apply(\n",
    "    lambda row: row['Price Per Unit'] * row['Quantity'] if pd.isnull(row['Total Spent']) and row['Price Per Unit'] > 0 and row['Quantity'] > 0 else row['Total Spent'], \n",
    "    axis=1\n",
    ")\n",
    "\n",
    "# Replace any remaining nulls\n",
    "df.fillna({\n",
    "    'Price Per Unit': 0,\n",
    "    'Quantity': 0,\n",
    "    'Total Spent': 0\n",
    "}, inplace=True)\n",
    "\n",
    "# Verify\n",
    "print(df.isnull().sum())\n"
   ]
  },
  {
   "cell_type": "code",
   "execution_count": 33,
   "metadata": {},
   "outputs": [
    {
     "data": {
      "application/vnd.microsoft.datawrangler.viewer.v0+json": {
       "columns": [
        {
         "name": "index",
         "rawType": "int64",
         "type": "integer"
        },
        {
         "name": "Transaction ID",
         "rawType": "object",
         "type": "string"
        },
        {
         "name": "Customer ID",
         "rawType": "object",
         "type": "string"
        },
        {
         "name": "Category",
         "rawType": "object",
         "type": "string"
        },
        {
         "name": "Item",
         "rawType": "object",
         "type": "string"
        },
        {
         "name": "Price Per Unit",
         "rawType": "float64",
         "type": "float"
        },
        {
         "name": "Quantity",
         "rawType": "float64",
         "type": "float"
        },
        {
         "name": "Total Spent",
         "rawType": "float64",
         "type": "float"
        },
        {
         "name": "Payment Method",
         "rawType": "object",
         "type": "string"
        },
        {
         "name": "Location",
         "rawType": "object",
         "type": "string"
        },
        {
         "name": "Transaction Date",
         "rawType": "object",
         "type": "string"
        },
        {
         "name": "Discount Applied",
         "rawType": "object",
         "type": "unknown"
        }
       ],
       "conversionMethod": "pd.DataFrame",
       "ref": "3982c464-9b6f-451d-905a-05a8c837716d",
       "rows": [
        [
         "10244",
         "TXN_7283902",
         "CUST_23",
         "Beverages",
         "Item_21_BEV",
         "35.0",
         "5.0",
         "175.0",
         "Cash",
         "In-store",
         "2024-06-28",
         "False"
        ],
        [
         "2369",
         "TXN_5483324",
         "CUST_21",
         "Food",
         "Item_12_FOOD",
         "21.5",
         "8.0",
         "172.0",
         "Digital Wallet",
         "Online",
         "2024-07-17",
         null
        ],
        [
         "4172",
         "TXN_9369677",
         "CUST_19",
         "Patisserie",
         "Item_19_PAT",
         "32.0",
         "4.0",
         "128.0",
         "Cash",
         "Online",
         "2024-03-05",
         null
        ],
        [
         "8320",
         "TXN_8048553",
         "CUST_04",
         "Electric household essentials",
         "Item_8_EHE",
         "15.5",
         "5.0",
         "77.5",
         "Cash",
         "In-store",
         "2024-08-08",
         null
        ],
        [
         "8527",
         "TXN_8794922",
         "CUST_06",
         "Computers and electric accessories",
         "Item_5_CEA",
         "11.0",
         "3.0",
         "33.0",
         "Digital Wallet",
         "In-store",
         "2024-05-28",
         "False"
        ],
        [
         "1448",
         "TXN_7686075",
         "CUST_15",
         "Electric household essentials",
         "Item_16_EHE",
         "27.5",
         "2.0",
         "55.0",
         "Credit Card",
         "Online",
         "2023-12-31",
         "True"
        ],
        [
         "6467",
         "TXN_8627287",
         "CUST_21",
         "Milk Products",
         "Item_12_MILK",
         "21.5",
         "2.0",
         "43.0",
         "Cash",
         "In-store",
         "2024-01-11",
         null
        ],
        [
         "10638",
         "TXN_3023899",
         "CUST_14",
         "Furniture",
         "Item_5_FUR",
         "11.0",
         "8.0",
         "88.0",
         "Digital Wallet",
         "In-store",
         "2024-12-30",
         null
        ],
        [
         "11260",
         "TXN_7402104",
         "CUST_03",
         "Computers and electric accessories",
         "Item_5_CEA",
         "11.0",
         "8.0",
         "88.0",
         "Credit Card",
         "Online",
         "2024-07-31",
         "False"
        ],
        [
         "3598",
         "TXN_8050462",
         "CUST_03",
         "Food",
         "Item_25_FOOD",
         "41.0",
         "3.0",
         "123.0",
         "Digital Wallet",
         "In-store",
         "2024-05-30",
         "False"
        ],
        [
         "606",
         "TXN_9191575",
         "CUST_01",
         "Milk Products",
         "Item_4_MILK",
         "9.5",
         "7.0",
         "66.5",
         "Digital Wallet",
         "In-store",
         "2024-01-28",
         null
        ],
        [
         "4768",
         "TXN_8628627",
         "CUST_16",
         "Electric household essentials",
         "Item_19_EHE",
         "32.0",
         "9.0",
         "288.0",
         "Credit Card",
         "Online",
         "2023-01-18",
         "False"
        ],
        [
         "393",
         "TXN_9671345",
         "CUST_21",
         "Furniture",
         "Item_20_FUR",
         "33.5",
         "2.0",
         "67.0",
         "Cash",
         "Online",
         "2022-09-13",
         "False"
        ],
        [
         "2695",
         "TXN_3433029",
         "CUST_20",
         "Electric household essentials",
         "Item_15_EHE",
         "26.0",
         "3.0",
         "78.0",
         "Digital Wallet",
         "Online",
         "2025-01-16",
         null
        ],
        [
         "9042",
         "TXN_7068871",
         "CUST_11",
         "Food",
         "Item_9_FOOD",
         "17.0",
         "9.0",
         "153.0",
         "Cash",
         "In-store",
         "2023-02-18",
         "False"
        ]
       ],
       "shape": {
        "columns": 11,
        "rows": 15
       }
      },
      "text/html": [
       "<div>\n",
       "<style scoped>\n",
       "    .dataframe tbody tr th:only-of-type {\n",
       "        vertical-align: middle;\n",
       "    }\n",
       "\n",
       "    .dataframe tbody tr th {\n",
       "        vertical-align: top;\n",
       "    }\n",
       "\n",
       "    .dataframe thead th {\n",
       "        text-align: right;\n",
       "    }\n",
       "</style>\n",
       "<table border=\"1\" class=\"dataframe\">\n",
       "  <thead>\n",
       "    <tr style=\"text-align: right;\">\n",
       "      <th></th>\n",
       "      <th>Transaction ID</th>\n",
       "      <th>Customer ID</th>\n",
       "      <th>Category</th>\n",
       "      <th>Item</th>\n",
       "      <th>Price Per Unit</th>\n",
       "      <th>Quantity</th>\n",
       "      <th>Total Spent</th>\n",
       "      <th>Payment Method</th>\n",
       "      <th>Location</th>\n",
       "      <th>Transaction Date</th>\n",
       "      <th>Discount Applied</th>\n",
       "    </tr>\n",
       "  </thead>\n",
       "  <tbody>\n",
       "    <tr>\n",
       "      <th>10244</th>\n",
       "      <td>TXN_7283902</td>\n",
       "      <td>CUST_23</td>\n",
       "      <td>Beverages</td>\n",
       "      <td>Item_21_BEV</td>\n",
       "      <td>35.0</td>\n",
       "      <td>5.0</td>\n",
       "      <td>175.0</td>\n",
       "      <td>Cash</td>\n",
       "      <td>In-store</td>\n",
       "      <td>2024-06-28</td>\n",
       "      <td>False</td>\n",
       "    </tr>\n",
       "    <tr>\n",
       "      <th>2369</th>\n",
       "      <td>TXN_5483324</td>\n",
       "      <td>CUST_21</td>\n",
       "      <td>Food</td>\n",
       "      <td>Item_12_FOOD</td>\n",
       "      <td>21.5</td>\n",
       "      <td>8.0</td>\n",
       "      <td>172.0</td>\n",
       "      <td>Digital Wallet</td>\n",
       "      <td>Online</td>\n",
       "      <td>2024-07-17</td>\n",
       "      <td>NaN</td>\n",
       "    </tr>\n",
       "    <tr>\n",
       "      <th>4172</th>\n",
       "      <td>TXN_9369677</td>\n",
       "      <td>CUST_19</td>\n",
       "      <td>Patisserie</td>\n",
       "      <td>Item_19_PAT</td>\n",
       "      <td>32.0</td>\n",
       "      <td>4.0</td>\n",
       "      <td>128.0</td>\n",
       "      <td>Cash</td>\n",
       "      <td>Online</td>\n",
       "      <td>2024-03-05</td>\n",
       "      <td>NaN</td>\n",
       "    </tr>\n",
       "    <tr>\n",
       "      <th>8320</th>\n",
       "      <td>TXN_8048553</td>\n",
       "      <td>CUST_04</td>\n",
       "      <td>Electric household essentials</td>\n",
       "      <td>Item_8_EHE</td>\n",
       "      <td>15.5</td>\n",
       "      <td>5.0</td>\n",
       "      <td>77.5</td>\n",
       "      <td>Cash</td>\n",
       "      <td>In-store</td>\n",
       "      <td>2024-08-08</td>\n",
       "      <td>NaN</td>\n",
       "    </tr>\n",
       "    <tr>\n",
       "      <th>8527</th>\n",
       "      <td>TXN_8794922</td>\n",
       "      <td>CUST_06</td>\n",
       "      <td>Computers and electric accessories</td>\n",
       "      <td>Item_5_CEA</td>\n",
       "      <td>11.0</td>\n",
       "      <td>3.0</td>\n",
       "      <td>33.0</td>\n",
       "      <td>Digital Wallet</td>\n",
       "      <td>In-store</td>\n",
       "      <td>2024-05-28</td>\n",
       "      <td>False</td>\n",
       "    </tr>\n",
       "    <tr>\n",
       "      <th>1448</th>\n",
       "      <td>TXN_7686075</td>\n",
       "      <td>CUST_15</td>\n",
       "      <td>Electric household essentials</td>\n",
       "      <td>Item_16_EHE</td>\n",
       "      <td>27.5</td>\n",
       "      <td>2.0</td>\n",
       "      <td>55.0</td>\n",
       "      <td>Credit Card</td>\n",
       "      <td>Online</td>\n",
       "      <td>2023-12-31</td>\n",
       "      <td>True</td>\n",
       "    </tr>\n",
       "    <tr>\n",
       "      <th>6467</th>\n",
       "      <td>TXN_8627287</td>\n",
       "      <td>CUST_21</td>\n",
       "      <td>Milk Products</td>\n",
       "      <td>Item_12_MILK</td>\n",
       "      <td>21.5</td>\n",
       "      <td>2.0</td>\n",
       "      <td>43.0</td>\n",
       "      <td>Cash</td>\n",
       "      <td>In-store</td>\n",
       "      <td>2024-01-11</td>\n",
       "      <td>NaN</td>\n",
       "    </tr>\n",
       "    <tr>\n",
       "      <th>10638</th>\n",
       "      <td>TXN_3023899</td>\n",
       "      <td>CUST_14</td>\n",
       "      <td>Furniture</td>\n",
       "      <td>Item_5_FUR</td>\n",
       "      <td>11.0</td>\n",
       "      <td>8.0</td>\n",
       "      <td>88.0</td>\n",
       "      <td>Digital Wallet</td>\n",
       "      <td>In-store</td>\n",
       "      <td>2024-12-30</td>\n",
       "      <td>NaN</td>\n",
       "    </tr>\n",
       "    <tr>\n",
       "      <th>11260</th>\n",
       "      <td>TXN_7402104</td>\n",
       "      <td>CUST_03</td>\n",
       "      <td>Computers and electric accessories</td>\n",
       "      <td>Item_5_CEA</td>\n",
       "      <td>11.0</td>\n",
       "      <td>8.0</td>\n",
       "      <td>88.0</td>\n",
       "      <td>Credit Card</td>\n",
       "      <td>Online</td>\n",
       "      <td>2024-07-31</td>\n",
       "      <td>False</td>\n",
       "    </tr>\n",
       "    <tr>\n",
       "      <th>3598</th>\n",
       "      <td>TXN_8050462</td>\n",
       "      <td>CUST_03</td>\n",
       "      <td>Food</td>\n",
       "      <td>Item_25_FOOD</td>\n",
       "      <td>41.0</td>\n",
       "      <td>3.0</td>\n",
       "      <td>123.0</td>\n",
       "      <td>Digital Wallet</td>\n",
       "      <td>In-store</td>\n",
       "      <td>2024-05-30</td>\n",
       "      <td>False</td>\n",
       "    </tr>\n",
       "    <tr>\n",
       "      <th>606</th>\n",
       "      <td>TXN_9191575</td>\n",
       "      <td>CUST_01</td>\n",
       "      <td>Milk Products</td>\n",
       "      <td>Item_4_MILK</td>\n",
       "      <td>9.5</td>\n",
       "      <td>7.0</td>\n",
       "      <td>66.5</td>\n",
       "      <td>Digital Wallet</td>\n",
       "      <td>In-store</td>\n",
       "      <td>2024-01-28</td>\n",
       "      <td>NaN</td>\n",
       "    </tr>\n",
       "    <tr>\n",
       "      <th>4768</th>\n",
       "      <td>TXN_8628627</td>\n",
       "      <td>CUST_16</td>\n",
       "      <td>Electric household essentials</td>\n",
       "      <td>Item_19_EHE</td>\n",
       "      <td>32.0</td>\n",
       "      <td>9.0</td>\n",
       "      <td>288.0</td>\n",
       "      <td>Credit Card</td>\n",
       "      <td>Online</td>\n",
       "      <td>2023-01-18</td>\n",
       "      <td>False</td>\n",
       "    </tr>\n",
       "    <tr>\n",
       "      <th>393</th>\n",
       "      <td>TXN_9671345</td>\n",
       "      <td>CUST_21</td>\n",
       "      <td>Furniture</td>\n",
       "      <td>Item_20_FUR</td>\n",
       "      <td>33.5</td>\n",
       "      <td>2.0</td>\n",
       "      <td>67.0</td>\n",
       "      <td>Cash</td>\n",
       "      <td>Online</td>\n",
       "      <td>2022-09-13</td>\n",
       "      <td>False</td>\n",
       "    </tr>\n",
       "    <tr>\n",
       "      <th>2695</th>\n",
       "      <td>TXN_3433029</td>\n",
       "      <td>CUST_20</td>\n",
       "      <td>Electric household essentials</td>\n",
       "      <td>Item_15_EHE</td>\n",
       "      <td>26.0</td>\n",
       "      <td>3.0</td>\n",
       "      <td>78.0</td>\n",
       "      <td>Digital Wallet</td>\n",
       "      <td>Online</td>\n",
       "      <td>2025-01-16</td>\n",
       "      <td>NaN</td>\n",
       "    </tr>\n",
       "    <tr>\n",
       "      <th>9042</th>\n",
       "      <td>TXN_7068871</td>\n",
       "      <td>CUST_11</td>\n",
       "      <td>Food</td>\n",
       "      <td>Item_9_FOOD</td>\n",
       "      <td>17.0</td>\n",
       "      <td>9.0</td>\n",
       "      <td>153.0</td>\n",
       "      <td>Cash</td>\n",
       "      <td>In-store</td>\n",
       "      <td>2023-02-18</td>\n",
       "      <td>False</td>\n",
       "    </tr>\n",
       "  </tbody>\n",
       "</table>\n",
       "</div>"
      ],
      "text/plain": [
       "      Transaction ID Customer ID                            Category  \\\n",
       "10244    TXN_7283902     CUST_23                           Beverages   \n",
       "2369     TXN_5483324     CUST_21                                Food   \n",
       "4172     TXN_9369677     CUST_19                          Patisserie   \n",
       "8320     TXN_8048553     CUST_04       Electric household essentials   \n",
       "8527     TXN_8794922     CUST_06  Computers and electric accessories   \n",
       "1448     TXN_7686075     CUST_15       Electric household essentials   \n",
       "6467     TXN_8627287     CUST_21                       Milk Products   \n",
       "10638    TXN_3023899     CUST_14                           Furniture   \n",
       "11260    TXN_7402104     CUST_03  Computers and electric accessories   \n",
       "3598     TXN_8050462     CUST_03                                Food   \n",
       "606      TXN_9191575     CUST_01                       Milk Products   \n",
       "4768     TXN_8628627     CUST_16       Electric household essentials   \n",
       "393      TXN_9671345     CUST_21                           Furniture   \n",
       "2695     TXN_3433029     CUST_20       Electric household essentials   \n",
       "9042     TXN_7068871     CUST_11                                Food   \n",
       "\n",
       "               Item  Price Per Unit  Quantity  Total Spent  Payment Method  \\\n",
       "10244   Item_21_BEV            35.0       5.0        175.0            Cash   \n",
       "2369   Item_12_FOOD            21.5       8.0        172.0  Digital Wallet   \n",
       "4172    Item_19_PAT            32.0       4.0        128.0            Cash   \n",
       "8320     Item_8_EHE            15.5       5.0         77.5            Cash   \n",
       "8527     Item_5_CEA            11.0       3.0         33.0  Digital Wallet   \n",
       "1448    Item_16_EHE            27.5       2.0         55.0     Credit Card   \n",
       "6467   Item_12_MILK            21.5       2.0         43.0            Cash   \n",
       "10638    Item_5_FUR            11.0       8.0         88.0  Digital Wallet   \n",
       "11260    Item_5_CEA            11.0       8.0         88.0     Credit Card   \n",
       "3598   Item_25_FOOD            41.0       3.0        123.0  Digital Wallet   \n",
       "606     Item_4_MILK             9.5       7.0         66.5  Digital Wallet   \n",
       "4768    Item_19_EHE            32.0       9.0        288.0     Credit Card   \n",
       "393     Item_20_FUR            33.5       2.0         67.0            Cash   \n",
       "2695    Item_15_EHE            26.0       3.0         78.0  Digital Wallet   \n",
       "9042    Item_9_FOOD            17.0       9.0        153.0            Cash   \n",
       "\n",
       "       Location Transaction Date Discount Applied  \n",
       "10244  In-store       2024-06-28            False  \n",
       "2369     Online       2024-07-17              NaN  \n",
       "4172     Online       2024-03-05              NaN  \n",
       "8320   In-store       2024-08-08              NaN  \n",
       "8527   In-store       2024-05-28            False  \n",
       "1448     Online       2023-12-31             True  \n",
       "6467   In-store       2024-01-11              NaN  \n",
       "10638  In-store       2024-12-30              NaN  \n",
       "11260    Online       2024-07-31            False  \n",
       "3598   In-store       2024-05-30            False  \n",
       "606    In-store       2024-01-28              NaN  \n",
       "4768     Online       2023-01-18            False  \n",
       "393      Online       2022-09-13            False  \n",
       "2695     Online       2025-01-16              NaN  \n",
       "9042   In-store       2023-02-18            False  "
      ]
     },
     "execution_count": 33,
     "metadata": {},
     "output_type": "execute_result"
    }
   ],
   "source": [
    "df.sample(n=15)"
   ]
  },
  {
   "cell_type": "markdown",
   "metadata": {},
   "source": [
    "Analyze unique combinations of Category and Item"
   ]
  },
  {
   "cell_type": "code",
   "execution_count": 34,
   "metadata": {},
   "outputs": [
    {
     "name": "stdout",
     "output_type": "stream",
     "text": [
      "                             Category  \\\n",
      "0                           Beverages   \n",
      "1                            Butchers   \n",
      "2  Computers and electric accessories   \n",
      "3       Electric household essentials   \n",
      "4                                Food   \n",
      "5                           Furniture   \n",
      "6                       Milk Products   \n",
      "7                          Patisserie   \n",
      "\n",
      "                                                Item  \n",
      "0  [Item_16_BEV, nan, Item_7_BEV, Item_25_BEV, It...  \n",
      "1  [Item_12_BUT, Item_22_BUT, Item_3_BUT, Item_20...  \n",
      "2  [Item_16_CEA, Item_5_CEA, Item_15_CEA, Item_24...  \n",
      "3  [Item_13_EHE, Item_4_EHE, Item_21_EHE, Item_10...  \n",
      "4  [Item_6_FOOD, Item_1_FOOD, Item_2_FOOD, Item_1...  \n",
      "5  [nan, Item_16_FUR, Item_14_FUR, Item_25_FUR, I...  \n",
      "6  [Item_17_MILK, nan, Item_16_MILK, Item_19_MILK...  \n",
      "7  [Item_10_PAT, nan, Item_24_PAT, Item_17_PAT, I...  \n"
     ]
    }
   ],
   "source": [
    "\n",
    "category_item_map = df.groupby(\"Category\")[\"Item\"].unique().reset_index()\n",
    "\n",
    "print(category_item_map)"
   ]
  },
  {
   "cell_type": "markdown",
   "metadata": {},
   "source": [
    "Display sorted item list for each category, excluding NaN values"
   ]
  },
  {
   "cell_type": "code",
   "execution_count": 35,
   "metadata": {},
   "outputs": [
    {
     "name": "stdout",
     "output_type": "stream",
     "text": [
      "Category: Beverages\n",
      "Items: ['Item_10_BEV', 'Item_11_BEV', 'Item_12_BEV', 'Item_13_BEV', 'Item_14_BEV', 'Item_15_BEV', 'Item_16_BEV', 'Item_17_BEV', 'Item_18_BEV', 'Item_19_BEV', 'Item_1_BEV', 'Item_20_BEV', 'Item_21_BEV', 'Item_22_BEV', 'Item_23_BEV', 'Item_24_BEV', 'Item_25_BEV', 'Item_2_BEV', 'Item_3_BEV', 'Item_4_BEV', 'Item_5_BEV', 'Item_6_BEV', 'Item_7_BEV', 'Item_8_BEV', 'Item_9_BEV']\n",
      "----------------------------------------\n",
      "Category: Butchers\n",
      "Items: ['Item_10_BUT', 'Item_11_BUT', 'Item_12_BUT', 'Item_13_BUT', 'Item_14_BUT', 'Item_15_BUT', 'Item_16_BUT', 'Item_17_BUT', 'Item_18_BUT', 'Item_19_BUT', 'Item_1_BUT', 'Item_20_BUT', 'Item_21_BUT', 'Item_22_BUT', 'Item_23_BUT', 'Item_24_BUT', 'Item_25_BUT', 'Item_2_BUT', 'Item_3_BUT', 'Item_4_BUT', 'Item_5_BUT', 'Item_6_BUT', 'Item_7_BUT', 'Item_8_BUT', 'Item_9_BUT']\n",
      "----------------------------------------\n",
      "Category: Computers and electric accessories\n",
      "Items: ['Item_10_CEA', 'Item_11_CEA', 'Item_12_CEA', 'Item_13_CEA', 'Item_14_CEA', 'Item_15_CEA', 'Item_16_CEA', 'Item_17_CEA', 'Item_18_CEA', 'Item_19_CEA', 'Item_1_CEA', 'Item_20_CEA', 'Item_21_CEA', 'Item_22_CEA', 'Item_23_CEA', 'Item_24_CEA', 'Item_25_CEA', 'Item_2_CEA', 'Item_3_CEA', 'Item_4_CEA', 'Item_5_CEA', 'Item_6_CEA', 'Item_7_CEA', 'Item_8_CEA', 'Item_9_CEA']\n",
      "----------------------------------------\n",
      "Category: Electric household essentials\n",
      "Items: ['Item_10_EHE', 'Item_11_EHE', 'Item_12_EHE', 'Item_13_EHE', 'Item_14_EHE', 'Item_15_EHE', 'Item_16_EHE', 'Item_17_EHE', 'Item_18_EHE', 'Item_19_EHE', 'Item_1_EHE', 'Item_20_EHE', 'Item_21_EHE', 'Item_22_EHE', 'Item_23_EHE', 'Item_24_EHE', 'Item_25_EHE', 'Item_2_EHE', 'Item_3_EHE', 'Item_4_EHE', 'Item_5_EHE', 'Item_6_EHE', 'Item_7_EHE', 'Item_8_EHE', 'Item_9_EHE']\n",
      "----------------------------------------\n",
      "Category: Food\n",
      "Items: ['Item_10_FOOD', 'Item_11_FOOD', 'Item_12_FOOD', 'Item_13_FOOD', 'Item_14_FOOD', 'Item_15_FOOD', 'Item_16_FOOD', 'Item_17_FOOD', 'Item_18_FOOD', 'Item_19_FOOD', 'Item_1_FOOD', 'Item_20_FOOD', 'Item_21_FOOD', 'Item_22_FOOD', 'Item_23_FOOD', 'Item_24_FOOD', 'Item_25_FOOD', 'Item_2_FOOD', 'Item_3_FOOD', 'Item_4_FOOD', 'Item_5_FOOD', 'Item_6_FOOD', 'Item_7_FOOD', 'Item_8_FOOD', 'Item_9_FOOD']\n",
      "----------------------------------------\n",
      "Category: Furniture\n",
      "Items: ['Item_10_FUR', 'Item_11_FUR', 'Item_12_FUR', 'Item_13_FUR', 'Item_14_FUR', 'Item_15_FUR', 'Item_16_FUR', 'Item_17_FUR', 'Item_18_FUR', 'Item_19_FUR', 'Item_1_FUR', 'Item_20_FUR', 'Item_21_FUR', 'Item_22_FUR', 'Item_23_FUR', 'Item_24_FUR', 'Item_25_FUR', 'Item_2_FUR', 'Item_3_FUR', 'Item_4_FUR', 'Item_5_FUR', 'Item_6_FUR', 'Item_7_FUR', 'Item_8_FUR', 'Item_9_FUR']\n",
      "----------------------------------------\n",
      "Category: Milk Products\n",
      "Items: ['Item_10_MILK', 'Item_11_MILK', 'Item_12_MILK', 'Item_13_MILK', 'Item_14_MILK', 'Item_15_MILK', 'Item_16_MILK', 'Item_17_MILK', 'Item_18_MILK', 'Item_19_MILK', 'Item_1_MILK', 'Item_20_MILK', 'Item_21_MILK', 'Item_22_MILK', 'Item_23_MILK', 'Item_24_MILK', 'Item_25_MILK', 'Item_2_MILK', 'Item_3_MILK', 'Item_4_MILK', 'Item_5_MILK', 'Item_6_MILK', 'Item_7_MILK', 'Item_8_MILK', 'Item_9_MILK']\n",
      "----------------------------------------\n",
      "Category: Patisserie\n",
      "Items: ['Item_10_PAT', 'Item_11_PAT', 'Item_12_PAT', 'Item_13_PAT', 'Item_14_PAT', 'Item_15_PAT', 'Item_16_PAT', 'Item_17_PAT', 'Item_18_PAT', 'Item_19_PAT', 'Item_1_PAT', 'Item_20_PAT', 'Item_21_PAT', 'Item_22_PAT', 'Item_23_PAT', 'Item_24_PAT', 'Item_25_PAT', 'Item_2_PAT', 'Item_3_PAT', 'Item_4_PAT', 'Item_5_PAT', 'Item_6_PAT', 'Item_7_PAT', 'Item_8_PAT', 'Item_9_PAT']\n",
      "----------------------------------------\n"
     ]
    }
   ],
   "source": [
    "for category, items in df.groupby(\"Category\")[\"Item\"].unique().items():\n",
    "    items = [item for item in items if isinstance(item, str)]  \n",
    "    sorted_items = sorted(items)  \n",
    "    print(f\"Category: {category}\")\n",
    "    print(f\"Items: {sorted_items}\")\n",
    "    print(\"-\" * 40)\n"
   ]
  },
  {
   "cell_type": "code",
   "execution_count": 36,
   "metadata": {},
   "outputs": [],
   "source": [
    "df['Item'] = df['Item'].fillna('Unknown')"
   ]
  },
  {
   "cell_type": "code",
   "execution_count": 37,
   "metadata": {},
   "outputs": [],
   "source": [
    "df[\"Discount Applied\"] = df[\"Discount Applied\"].fillna(\"null\")"
   ]
  },
  {
   "cell_type": "code",
   "execution_count": 38,
   "metadata": {},
   "outputs": [
    {
     "name": "stdout",
     "output_type": "stream",
     "text": [
      "<pandas.core.groupby.generic.SeriesGroupBy object at 0x7894f4155fd0>\n"
     ]
    }
   ],
   "source": [
    "customers_cat = df.groupby(\"Customer ID\")[\"Category\"]\n",
    "print(customers_cat)"
   ]
  },
  {
   "cell_type": "code",
   "execution_count": 39,
   "metadata": {},
   "outputs": [
    {
     "name": "stdout",
     "output_type": "stream",
     "text": [
      "ID: CUST_01\n",
      "507\n",
      "ID: CUST_02\n",
      "488\n",
      "ID: CUST_03\n",
      "465\n",
      "ID: CUST_04\n",
      "474\n",
      "ID: CUST_05\n",
      "544\n",
      "ID: CUST_06\n",
      "481\n",
      "ID: CUST_07\n",
      "491\n",
      "ID: CUST_08\n",
      "533\n",
      "ID: CUST_09\n",
      "519\n",
      "ID: CUST_10\n",
      "501\n",
      "ID: CUST_11\n",
      "503\n",
      "ID: CUST_12\n",
      "498\n",
      "ID: CUST_13\n",
      "534\n",
      "ID: CUST_14\n",
      "484\n",
      "ID: CUST_15\n",
      "519\n",
      "ID: CUST_16\n",
      "515\n",
      "ID: CUST_17\n",
      "487\n",
      "ID: CUST_18\n",
      "507\n",
      "ID: CUST_19\n",
      "487\n",
      "ID: CUST_20\n",
      "507\n",
      "ID: CUST_21\n",
      "498\n",
      "ID: CUST_22\n",
      "501\n",
      "ID: CUST_23\n",
      "513\n",
      "ID: CUST_24\n",
      "543\n",
      "ID: CUST_25\n",
      "476\n"
     ]
    }
   ],
   "source": [
    "# Iterate over each group and print\n",
    "for id, cat in customers_cat:\n",
    "    print(f\"ID: {id}\")\n",
    "    print(len(cat))\n"
   ]
  },
  {
   "cell_type": "code",
   "execution_count": 40,
   "metadata": {},
   "outputs": [
    {
     "name": "stdout",
     "output_type": "stream",
     "text": [
      "CUST_01\n",
      "8\n",
      "CUST_02\n",
      "8\n",
      "CUST_03\n",
      "8\n",
      "CUST_04\n",
      "8\n",
      "CUST_05\n",
      "8\n",
      "CUST_06\n",
      "8\n",
      "CUST_07\n",
      "8\n",
      "CUST_08\n",
      "8\n",
      "CUST_09\n",
      "8\n",
      "CUST_10\n",
      "8\n",
      "CUST_11\n",
      "8\n",
      "CUST_12\n",
      "8\n",
      "CUST_13\n",
      "8\n",
      "CUST_14\n",
      "8\n",
      "CUST_15\n",
      "8\n",
      "CUST_16\n",
      "8\n",
      "CUST_17\n",
      "8\n",
      "CUST_18\n",
      "8\n",
      "CUST_19\n",
      "8\n",
      "CUST_20\n",
      "8\n",
      "CUST_21\n",
      "8\n",
      "CUST_22\n",
      "8\n",
      "CUST_23\n",
      "8\n",
      "CUST_24\n",
      "8\n",
      "CUST_25\n",
      "8\n"
     ]
    }
   ],
   "source": [
    "for id, cat in df.groupby(\"Customer ID\")[\"Category\"].unique().items():\n",
    "    print(id)\n",
    "    print(len(cat))"
   ]
  },
  {
   "cell_type": "code",
   "execution_count": 41,
   "metadata": {},
   "outputs": [
    {
     "name": "stdout",
     "output_type": "stream",
     "text": [
      "Customer ID: CUST_01\n",
      "507\n",
      "Customer ID: CUST_02\n",
      "488\n",
      "Customer ID: CUST_03\n",
      "465\n",
      "Customer ID: CUST_04\n",
      "474\n",
      "Customer ID: CUST_05\n",
      "544\n",
      "Customer ID: CUST_06\n",
      "481\n",
      "Customer ID: CUST_07\n",
      "491\n",
      "Customer ID: CUST_08\n",
      "533\n",
      "Customer ID: CUST_09\n",
      "519\n",
      "Customer ID: CUST_10\n",
      "501\n",
      "Customer ID: CUST_11\n",
      "503\n",
      "Customer ID: CUST_12\n",
      "498\n",
      "Customer ID: CUST_13\n",
      "534\n",
      "Customer ID: CUST_14\n",
      "484\n",
      "Customer ID: CUST_15\n",
      "519\n",
      "Customer ID: CUST_16\n",
      "515\n",
      "Customer ID: CUST_17\n",
      "487\n",
      "Customer ID: CUST_18\n",
      "507\n",
      "Customer ID: CUST_19\n",
      "487\n",
      "Customer ID: CUST_20\n",
      "507\n",
      "Customer ID: CUST_21\n",
      "498\n",
      "Customer ID: CUST_22\n",
      "501\n",
      "Customer ID: CUST_23\n",
      "513\n",
      "Customer ID: CUST_24\n",
      "543\n",
      "Customer ID: CUST_25\n",
      "476\n"
     ]
    }
   ],
   "source": [
    "grouped = df.groupby(\"Customer ID\")[\"Item\"]\n",
    "\n",
    "# Iterate over each group and print\n",
    "for id, items in grouped:\n",
    "    print(f\"Customer ID: {id}\")\n",
    "    print(len(items))\n"
   ]
  },
  {
   "cell_type": "markdown",
   "metadata": {},
   "source": [
    "#### Some Insights"
   ]
  },
  {
   "cell_type": "markdown",
   "metadata": {},
   "source": [
    "Some things I found while cleaning the data and from my analysis\n",
    "\n",
    "- Categories - 8\n",
    "- Items - 200/8 = 25, \n",
    "- which means there are 25 items under each category(8), which makes 200 unique items.\n",
    "- Price Per unit - between 5 to 41\n",
    "- CustomerID -- 25(unique)\n",
    "\n",
    "As you can see, despite the category each item has a unique price, from 5 to 41\n",
    "\n",
    "- item 1 = 5.0\n",
    "- item 2 = 6.5\n",
    "- item 3 = 8.0\n",
    "- item 4 = 9.5\n",
    "- item 5 = 11.0\n",
    "- item 6 = 12.5\n",
    "- item 7 = 14.0\n",
    "- item 8 = 15.5\n",
    "- item 9 = 17.0\n",
    "- item 10 = 18.5\n",
    "- item 11 = 20.0\n",
    "- item 12 = 21.5\n",
    "- item 13 = 23.0\n",
    "- item 14 = 24.5\n",
    "- item 15 = 26.0 \n",
    "- item 16 = 27.5\n",
    "- item 17 = 29.0\n",
    "- item 18 = 30.5\n",
    "- item 19 = 32.0\n",
    "- item 20 = 33.5\n",
    "- item 21 = 35.0\n",
    "- item 22 = 36.5\n",
    "- item 23 = 38.0\n",
    "- item 24 = 39.5\n",
    "- item 25 = 41.0"
   ]
  },
  {
   "cell_type": "markdown",
   "metadata": {},
   "source": [
    "#### Feature Engineering\n",
    "- Introducing new columsn Year, Month and Year-Month"
   ]
  },
  {
   "cell_type": "code",
   "execution_count": 42,
   "metadata": {},
   "outputs": [],
   "source": [
    "\n",
    "df['Transaction Date'] = pd.to_datetime(df['Transaction Date'])\n",
    "df['Year'] = df['Transaction Date'].dt.year\n",
    "df['Month'] = df['Transaction Date'].dt.month\n",
    "df['Year-Month'] = df['Transaction Date'].dt.to_period('M')"
   ]
  },
  {
   "cell_type": "code",
   "execution_count": 43,
   "metadata": {},
   "outputs": [
    {
     "data": {
      "application/vnd.microsoft.datawrangler.viewer.v0+json": {
       "columns": [
        {
         "name": "index",
         "rawType": "int64",
         "type": "integer"
        },
        {
         "name": "Transaction ID",
         "rawType": "object",
         "type": "string"
        },
        {
         "name": "Customer ID",
         "rawType": "object",
         "type": "string"
        },
        {
         "name": "Category",
         "rawType": "object",
         "type": "string"
        },
        {
         "name": "Item",
         "rawType": "object",
         "type": "string"
        },
        {
         "name": "Price Per Unit",
         "rawType": "float64",
         "type": "float"
        },
        {
         "name": "Quantity",
         "rawType": "float64",
         "type": "float"
        },
        {
         "name": "Total Spent",
         "rawType": "float64",
         "type": "float"
        },
        {
         "name": "Payment Method",
         "rawType": "object",
         "type": "string"
        },
        {
         "name": "Location",
         "rawType": "object",
         "type": "string"
        },
        {
         "name": "Transaction Date",
         "rawType": "datetime64[ns]",
         "type": "datetime"
        },
        {
         "name": "Discount Applied",
         "rawType": "object",
         "type": "unknown"
        },
        {
         "name": "Year",
         "rawType": "int32",
         "type": "integer"
        },
        {
         "name": "Month",
         "rawType": "int32",
         "type": "integer"
        },
        {
         "name": "Year-Month",
         "rawType": "period[M]",
         "type": "unknown"
        }
       ],
       "conversionMethod": "pd.DataFrame",
       "ref": "c137deaf-cd16-49de-947e-bb363f17227c",
       "rows": [
        [
         "1360",
         "TXN_9999124",
         "CUST_02",
         "Butchers",
         "Unknown",
         "36.5",
         "0.0",
         "0.0",
         "Digital Wallet",
         "In-store",
         "2024-02-21 00:00:00",
         "False",
         "2024",
         "2",
         "2024-02"
        ],
        [
         "1406",
         "TXN_5315119",
         "CUST_10",
         "Patisserie",
         "Unknown",
         "9.5",
         "3.0",
         "28.5",
         "Digital Wallet",
         "Online",
         "2024-09-01 00:00:00",
         "null",
         "2024",
         "9",
         "2024-09"
        ],
        [
         "4365",
         "TXN_8083639",
         "CUST_14",
         "Patisserie",
         "Item_17_PAT",
         "29.0",
         "3.0",
         "87.0",
         "Cash",
         "Online",
         "2023-08-03 00:00:00",
         "null",
         "2023",
         "8",
         "2023-08"
        ],
        [
         "8205",
         "TXN_5504521",
         "CUST_05",
         "Beverages",
         "Unknown",
         "35.0",
         "0.0",
         "0.0",
         "Digital Wallet",
         "In-store",
         "2024-04-19 00:00:00",
         "False",
         "2024",
         "4",
         "2024-04"
        ],
        [
         "9418",
         "TXN_4351750",
         "CUST_12",
         "Food",
         "Item_19_FOOD",
         "32.0",
         "4.0",
         "128.0",
         "Cash",
         "In-store",
         "2022-11-04 00:00:00",
         "True",
         "2022",
         "11",
         "2022-11"
        ],
        [
         "12353",
         "TXN_8074184",
         "CUST_04",
         "Milk Products",
         "Item_24_MILK",
         "39.5",
         "2.0",
         "79.0",
         "Cash",
         "Online",
         "2024-05-14 00:00:00",
         "False",
         "2024",
         "5",
         "2024-05"
        ],
        [
         "12484",
         "TXN_4236200",
         "CUST_15",
         "Patisserie",
         "Item_3_PAT",
         "8.0",
         "3.0",
         "24.0",
         "Credit Card",
         "In-store",
         "2023-09-01 00:00:00",
         "null",
         "2023",
         "9",
         "2023-09"
        ],
        [
         "10367",
         "TXN_6968520",
         "CUST_21",
         "Electric household essentials",
         "Item_20_EHE",
         "33.5",
         "7.0",
         "234.5",
         "Credit Card",
         "Online",
         "2024-01-27 00:00:00",
         "True",
         "2024",
         "1",
         "2024-01"
        ],
        [
         "11584",
         "TXN_1033656",
         "CUST_18",
         "Electric household essentials",
         "Item_15_EHE",
         "26.0",
         "5.0",
         "130.0",
         "Credit Card",
         "Online",
         "2024-04-29 00:00:00",
         "null",
         "2024",
         "4",
         "2024-04"
        ],
        [
         "1603",
         "TXN_8190786",
         "CUST_03",
         "Computers and electric accessories",
         "Item_20_CEA",
         "33.5",
         "4.0",
         "134.0",
         "Cash",
         "Online",
         "2022-02-11 00:00:00",
         "null",
         "2022",
         "2",
         "2022-02"
        ],
        [
         "5832",
         "TXN_4355077",
         "CUST_24",
         "Food",
         "Unknown",
         "29.0",
         "5.0",
         "145.0",
         "Cash",
         "In-store",
         "2023-02-24 00:00:00",
         "null",
         "2023",
         "2",
         "2023-02"
        ]
       ],
       "shape": {
        "columns": 14,
        "rows": 11
       }
      },
      "text/html": [
       "<div>\n",
       "<style scoped>\n",
       "    .dataframe tbody tr th:only-of-type {\n",
       "        vertical-align: middle;\n",
       "    }\n",
       "\n",
       "    .dataframe tbody tr th {\n",
       "        vertical-align: top;\n",
       "    }\n",
       "\n",
       "    .dataframe thead th {\n",
       "        text-align: right;\n",
       "    }\n",
       "</style>\n",
       "<table border=\"1\" class=\"dataframe\">\n",
       "  <thead>\n",
       "    <tr style=\"text-align: right;\">\n",
       "      <th></th>\n",
       "      <th>Transaction ID</th>\n",
       "      <th>Customer ID</th>\n",
       "      <th>Category</th>\n",
       "      <th>Item</th>\n",
       "      <th>Price Per Unit</th>\n",
       "      <th>Quantity</th>\n",
       "      <th>Total Spent</th>\n",
       "      <th>Payment Method</th>\n",
       "      <th>Location</th>\n",
       "      <th>Transaction Date</th>\n",
       "      <th>Discount Applied</th>\n",
       "      <th>Year</th>\n",
       "      <th>Month</th>\n",
       "      <th>Year-Month</th>\n",
       "    </tr>\n",
       "  </thead>\n",
       "  <tbody>\n",
       "    <tr>\n",
       "      <th>1360</th>\n",
       "      <td>TXN_9999124</td>\n",
       "      <td>CUST_02</td>\n",
       "      <td>Butchers</td>\n",
       "      <td>Unknown</td>\n",
       "      <td>36.5</td>\n",
       "      <td>0.0</td>\n",
       "      <td>0.0</td>\n",
       "      <td>Digital Wallet</td>\n",
       "      <td>In-store</td>\n",
       "      <td>2024-02-21</td>\n",
       "      <td>False</td>\n",
       "      <td>2024</td>\n",
       "      <td>2</td>\n",
       "      <td>2024-02</td>\n",
       "    </tr>\n",
       "    <tr>\n",
       "      <th>1406</th>\n",
       "      <td>TXN_5315119</td>\n",
       "      <td>CUST_10</td>\n",
       "      <td>Patisserie</td>\n",
       "      <td>Unknown</td>\n",
       "      <td>9.5</td>\n",
       "      <td>3.0</td>\n",
       "      <td>28.5</td>\n",
       "      <td>Digital Wallet</td>\n",
       "      <td>Online</td>\n",
       "      <td>2024-09-01</td>\n",
       "      <td>null</td>\n",
       "      <td>2024</td>\n",
       "      <td>9</td>\n",
       "      <td>2024-09</td>\n",
       "    </tr>\n",
       "    <tr>\n",
       "      <th>4365</th>\n",
       "      <td>TXN_8083639</td>\n",
       "      <td>CUST_14</td>\n",
       "      <td>Patisserie</td>\n",
       "      <td>Item_17_PAT</td>\n",
       "      <td>29.0</td>\n",
       "      <td>3.0</td>\n",
       "      <td>87.0</td>\n",
       "      <td>Cash</td>\n",
       "      <td>Online</td>\n",
       "      <td>2023-08-03</td>\n",
       "      <td>null</td>\n",
       "      <td>2023</td>\n",
       "      <td>8</td>\n",
       "      <td>2023-08</td>\n",
       "    </tr>\n",
       "    <tr>\n",
       "      <th>8205</th>\n",
       "      <td>TXN_5504521</td>\n",
       "      <td>CUST_05</td>\n",
       "      <td>Beverages</td>\n",
       "      <td>Unknown</td>\n",
       "      <td>35.0</td>\n",
       "      <td>0.0</td>\n",
       "      <td>0.0</td>\n",
       "      <td>Digital Wallet</td>\n",
       "      <td>In-store</td>\n",
       "      <td>2024-04-19</td>\n",
       "      <td>False</td>\n",
       "      <td>2024</td>\n",
       "      <td>4</td>\n",
       "      <td>2024-04</td>\n",
       "    </tr>\n",
       "    <tr>\n",
       "      <th>9418</th>\n",
       "      <td>TXN_4351750</td>\n",
       "      <td>CUST_12</td>\n",
       "      <td>Food</td>\n",
       "      <td>Item_19_FOOD</td>\n",
       "      <td>32.0</td>\n",
       "      <td>4.0</td>\n",
       "      <td>128.0</td>\n",
       "      <td>Cash</td>\n",
       "      <td>In-store</td>\n",
       "      <td>2022-11-04</td>\n",
       "      <td>True</td>\n",
       "      <td>2022</td>\n",
       "      <td>11</td>\n",
       "      <td>2022-11</td>\n",
       "    </tr>\n",
       "    <tr>\n",
       "      <th>12353</th>\n",
       "      <td>TXN_8074184</td>\n",
       "      <td>CUST_04</td>\n",
       "      <td>Milk Products</td>\n",
       "      <td>Item_24_MILK</td>\n",
       "      <td>39.5</td>\n",
       "      <td>2.0</td>\n",
       "      <td>79.0</td>\n",
       "      <td>Cash</td>\n",
       "      <td>Online</td>\n",
       "      <td>2024-05-14</td>\n",
       "      <td>False</td>\n",
       "      <td>2024</td>\n",
       "      <td>5</td>\n",
       "      <td>2024-05</td>\n",
       "    </tr>\n",
       "    <tr>\n",
       "      <th>12484</th>\n",
       "      <td>TXN_4236200</td>\n",
       "      <td>CUST_15</td>\n",
       "      <td>Patisserie</td>\n",
       "      <td>Item_3_PAT</td>\n",
       "      <td>8.0</td>\n",
       "      <td>3.0</td>\n",
       "      <td>24.0</td>\n",
       "      <td>Credit Card</td>\n",
       "      <td>In-store</td>\n",
       "      <td>2023-09-01</td>\n",
       "      <td>null</td>\n",
       "      <td>2023</td>\n",
       "      <td>9</td>\n",
       "      <td>2023-09</td>\n",
       "    </tr>\n",
       "    <tr>\n",
       "      <th>10367</th>\n",
       "      <td>TXN_6968520</td>\n",
       "      <td>CUST_21</td>\n",
       "      <td>Electric household essentials</td>\n",
       "      <td>Item_20_EHE</td>\n",
       "      <td>33.5</td>\n",
       "      <td>7.0</td>\n",
       "      <td>234.5</td>\n",
       "      <td>Credit Card</td>\n",
       "      <td>Online</td>\n",
       "      <td>2024-01-27</td>\n",
       "      <td>True</td>\n",
       "      <td>2024</td>\n",
       "      <td>1</td>\n",
       "      <td>2024-01</td>\n",
       "    </tr>\n",
       "    <tr>\n",
       "      <th>11584</th>\n",
       "      <td>TXN_1033656</td>\n",
       "      <td>CUST_18</td>\n",
       "      <td>Electric household essentials</td>\n",
       "      <td>Item_15_EHE</td>\n",
       "      <td>26.0</td>\n",
       "      <td>5.0</td>\n",
       "      <td>130.0</td>\n",
       "      <td>Credit Card</td>\n",
       "      <td>Online</td>\n",
       "      <td>2024-04-29</td>\n",
       "      <td>null</td>\n",
       "      <td>2024</td>\n",
       "      <td>4</td>\n",
       "      <td>2024-04</td>\n",
       "    </tr>\n",
       "    <tr>\n",
       "      <th>1603</th>\n",
       "      <td>TXN_8190786</td>\n",
       "      <td>CUST_03</td>\n",
       "      <td>Computers and electric accessories</td>\n",
       "      <td>Item_20_CEA</td>\n",
       "      <td>33.5</td>\n",
       "      <td>4.0</td>\n",
       "      <td>134.0</td>\n",
       "      <td>Cash</td>\n",
       "      <td>Online</td>\n",
       "      <td>2022-02-11</td>\n",
       "      <td>null</td>\n",
       "      <td>2022</td>\n",
       "      <td>2</td>\n",
       "      <td>2022-02</td>\n",
       "    </tr>\n",
       "    <tr>\n",
       "      <th>5832</th>\n",
       "      <td>TXN_4355077</td>\n",
       "      <td>CUST_24</td>\n",
       "      <td>Food</td>\n",
       "      <td>Unknown</td>\n",
       "      <td>29.0</td>\n",
       "      <td>5.0</td>\n",
       "      <td>145.0</td>\n",
       "      <td>Cash</td>\n",
       "      <td>In-store</td>\n",
       "      <td>2023-02-24</td>\n",
       "      <td>null</td>\n",
       "      <td>2023</td>\n",
       "      <td>2</td>\n",
       "      <td>2023-02</td>\n",
       "    </tr>\n",
       "  </tbody>\n",
       "</table>\n",
       "</div>"
      ],
      "text/plain": [
       "      Transaction ID Customer ID                            Category  \\\n",
       "1360     TXN_9999124     CUST_02                            Butchers   \n",
       "1406     TXN_5315119     CUST_10                          Patisserie   \n",
       "4365     TXN_8083639     CUST_14                          Patisserie   \n",
       "8205     TXN_5504521     CUST_05                           Beverages   \n",
       "9418     TXN_4351750     CUST_12                                Food   \n",
       "12353    TXN_8074184     CUST_04                       Milk Products   \n",
       "12484    TXN_4236200     CUST_15                          Patisserie   \n",
       "10367    TXN_6968520     CUST_21       Electric household essentials   \n",
       "11584    TXN_1033656     CUST_18       Electric household essentials   \n",
       "1603     TXN_8190786     CUST_03  Computers and electric accessories   \n",
       "5832     TXN_4355077     CUST_24                                Food   \n",
       "\n",
       "               Item  Price Per Unit  Quantity  Total Spent  Payment Method  \\\n",
       "1360        Unknown            36.5       0.0          0.0  Digital Wallet   \n",
       "1406        Unknown             9.5       3.0         28.5  Digital Wallet   \n",
       "4365    Item_17_PAT            29.0       3.0         87.0            Cash   \n",
       "8205        Unknown            35.0       0.0          0.0  Digital Wallet   \n",
       "9418   Item_19_FOOD            32.0       4.0        128.0            Cash   \n",
       "12353  Item_24_MILK            39.5       2.0         79.0            Cash   \n",
       "12484    Item_3_PAT             8.0       3.0         24.0     Credit Card   \n",
       "10367   Item_20_EHE            33.5       7.0        234.5     Credit Card   \n",
       "11584   Item_15_EHE            26.0       5.0        130.0     Credit Card   \n",
       "1603    Item_20_CEA            33.5       4.0        134.0            Cash   \n",
       "5832        Unknown            29.0       5.0        145.0            Cash   \n",
       "\n",
       "       Location Transaction Date Discount Applied  Year  Month Year-Month  \n",
       "1360   In-store       2024-02-21            False  2024      2    2024-02  \n",
       "1406     Online       2024-09-01             null  2024      9    2024-09  \n",
       "4365     Online       2023-08-03             null  2023      8    2023-08  \n",
       "8205   In-store       2024-04-19            False  2024      4    2024-04  \n",
       "9418   In-store       2022-11-04             True  2022     11    2022-11  \n",
       "12353    Online       2024-05-14            False  2024      5    2024-05  \n",
       "12484  In-store       2023-09-01             null  2023      9    2023-09  \n",
       "10367    Online       2024-01-27             True  2024      1    2024-01  \n",
       "11584    Online       2024-04-29             null  2024      4    2024-04  \n",
       "1603     Online       2022-02-11             null  2022      2    2022-02  \n",
       "5832   In-store       2023-02-24             null  2023      2    2023-02  "
      ]
     },
     "execution_count": 43,
     "metadata": {},
     "output_type": "execute_result"
    }
   ],
   "source": [
    "df.sample(n=11)"
   ]
  },
  {
   "cell_type": "markdown",
   "metadata": {},
   "source": [
    "Saving the final Data frame into CSV format"
   ]
  },
  {
   "cell_type": "code",
   "execution_count": 44,
   "metadata": {},
   "outputs": [],
   "source": [
    "df.to_csv(\"visual_retail_sales_data.csv\", index=False)"
   ]
  }
 ],
 "metadata": {
  "kernelspec": {
   "display_name": "base",
   "language": "python",
   "name": "python3"
  },
  "language_info": {
   "codemirror_mode": {
    "name": "ipython",
    "version": 3
   },
   "file_extension": ".py",
   "mimetype": "text/x-python",
   "name": "python",
   "nbconvert_exporter": "python",
   "pygments_lexer": "ipython3",
   "version": "3.12.7"
  }
 },
 "nbformat": 4,
 "nbformat_minor": 2
}
